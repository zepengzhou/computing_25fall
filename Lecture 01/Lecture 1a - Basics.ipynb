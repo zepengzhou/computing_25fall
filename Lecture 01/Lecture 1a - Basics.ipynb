{
 "cells": [
  {
   "attachments": {},
   "cell_type": "markdown",
   "metadata": {},
   "source": [
    "# <span style=\"color:darkblue\"> Lecture 1a: Introduction to Jupyter Notebooks </span>"
   ]
  },
  {
   "cell_type": "markdown",
   "metadata": {},
   "source": [
    "<font size=\"5\"> \n",
    "\n",
    "The basic structure for running Python for data projects\n",
    "\n",
    "<img src=\"figures/project_flow.png\" alt=\"drawing\" width=\"650\"/>\n",
    "\n",
    "- Python is a general purpose language\n",
    "- Researchers and practitioners add new functionalities all the time\n",
    "- New features are included as packages on top of the \"basic\" installation\n",
    "\n",
    "***"
   ]
  },
  {
   "cell_type": "markdown",
   "metadata": {},
   "source": [
    "# <span style=\"color:darkblue\"> STEP 0: Preliminaries </span>\n",
    "\n",
    "<font size=\"5\"> \n",
    "\n",
    "- A Virtual Environment is a **directory** (folder in your computer) <br>\n",
    "that contains a specific **collection of packages**\n",
    "\n",
    "- A package is a folder containing a set of Python scripts or <br>\n",
    "modules which allow you to accomplish a defined task <br> \n",
    "(visualization, analysis, mathematical operations, etc.)"
   ]
  },
  {
   "cell_type": "markdown",
   "metadata": {},
   "source": [
    "<font size = \"5\">\n",
    "\n",
    "To manage packages open \"Anaconda Navigator\" on your <br>\n",
    "computer and go to the \"Environment\" Tab"
   ]
  },
  {
   "cell_type": "markdown",
   "metadata": {},
   "source": [
    "<img src=\"figures/anaconda_navigator_installed.png\" alt=\"drawing\" width=\"650\"/>"
   ]
  },
  {
   "cell_type": "markdown",
   "metadata": {},
   "source": [
    "<font size = \"5\">\n",
    "\n",
    "In the future, as your data analysis needs expand, <br>\n",
    "you way want to click on the \"Not installed\" packages <br>\n",
    "to download cool new packages!"
   ]
  },
  {
   "cell_type": "markdown",
   "metadata": {},
   "source": [
    "<img src=\"figures/anaconda_navigator_notinstalled.png\" alt=\"drawing\" width=\"650\"/>"
   ]
  },
  {
   "cell_type": "markdown",
   "metadata": {},
   "source": [
    "# <span style=\"color:darkblue\"> STEP 1: Setup Working Environment </span>\n",
    "\n",
    "<font size=\"5\"> \n",
    "\n",
    "Double Check that Python is linked to VS Code\n",
    "\n",
    "<img src=\"figures/python_kernel.png\" alt=\"drawing\" width=\"650\"/>\n",
    "\n",
    "- If not already linked, it will say \"Select Kernel\"\n",
    "- Click button, choose \"Python Environments\", then select <br>\n",
    "the version of Python that contains the word \"anaconda\"\n"
   ]
  },
  {
   "cell_type": "markdown",
   "metadata": {},
   "source": [
    "<font size = \"5\">\n",
    "\n",
    "(a) Import Packages:\n",
    "\n",
    "- Jupyter notebooks launches with very basic options\n",
    "- The \"import\" command adds libraries to the working enviroment. \n",
    "- We can give the libraries a nickname with \"as\"\n",
    "\n",
    "\n",
    "\n",
    "```matplotlib``` allows us to do nice graphs in Python <br>\n",
    "``` pandas ``` allows us to work with datasets"
   ]
  },
  {
   "cell_type": "code",
   "execution_count": 4,
   "metadata": {},
   "outputs": [],
   "source": [
    "# Notes about nicknames:\n",
    "# - For example, \"matplotlib.pyplot\" is a long name. Let's call it \"plt\"\n",
    "# - Similarly, let's call \"pandas\" as \"pd\"\n",
    "# - Try adding your own nickname!\n",
    "# - To avoid errors, be consistent with your nicknames\n",
    "\n",
    "import matplotlib.pyplot as plt\n",
    "import pandas as pd"
   ]
  },
  {
   "attachments": {},
   "cell_type": "markdown",
   "metadata": {},
   "source": [
    "<font size=\"5\"> \n",
    "\n",
    "(b) Open datasets\n",
    "\n",
    "Run the command \"read_csv\" from the library <br>\n",
    "\"pandas\" (nicknamed \"pd\"). \n"
   ]
  },
  {
   "cell_type": "code",
   "execution_count": 5,
   "metadata": {},
   "outputs": [
    {
     "name": "stdout",
     "output_type": "stream",
     "text": [
      "Hello, World!\n"
     ]
    }
   ],
   "source": [
    "print('Hello, World!')"
   ]
  },
  {
   "cell_type": "code",
   "execution_count": 6,
   "metadata": {},
   "outputs": [],
   "source": [
    "# You can use \".\" to run subcommands contained in a library.\n",
    "# The subcommand \"read_csv()\" opens the file in parenthesis.\n",
    "# We use the \"=\" symbol to store the dataset in the working environment under the name \"carfeatures\"\n",
    "\n",
    "carfeatures = pd.read_csv('data/features.csv')"
   ]
  },
  {
   "attachments": {},
   "cell_type": "markdown",
   "metadata": {},
   "source": [
    "<font size=\"5\"> \n",
    "\n",
    "You can open the datasets in the current environment\n",
    "- Click on the \"Variables\" button in the top bar to open a panel\n",
    "\n",
    "<img src=\"figures/topbar.png\" alt=\"drawing\" width=\"650\"/>\n",
    "\n",
    "- Double click on \"carfeatures\" in the \"Jupyter: Variables\" tab\n",
    "\n",
    "<img src=\"figures/sampledata.png\" alt=\"drawing\" width=\"650\"/>\n",
    "\n",
    "- Each row is an observation (a car)\n",
    "- Each column is the value of a variable (a feature of that car)"
   ]
  },
  {
   "attachments": {},
   "cell_type": "markdown",
   "metadata": {},
   "source": [
    "***"
   ]
  },
  {
   "attachments": {},
   "cell_type": "markdown",
   "metadata": {},
   "source": [
    "\n",
    "# <span style=\"color:darkblue\"> STEP 2: Run Analyses </span>\n",
    "\n",
    "<font size=\"5\"> \n",
    "\n",
    "Output data for all the columns"
   ]
  },
  {
   "cell_type": "code",
   "execution_count": 7,
   "metadata": {},
   "outputs": [
    {
     "data": {
      "application/vnd.microsoft.datawrangler.viewer.v0+json": {
       "columns": [
        {
         "name": "index",
         "rawType": "int64",
         "type": "integer"
        },
        {
         "name": "mpg",
         "rawType": "float64",
         "type": "float"
        },
        {
         "name": "cylinders",
         "rawType": "int64",
         "type": "integer"
        },
        {
         "name": "displacement",
         "rawType": "int64",
         "type": "integer"
        },
        {
         "name": "horsepower",
         "rawType": "object",
         "type": "unknown"
        },
        {
         "name": "weight",
         "rawType": "int64",
         "type": "integer"
        },
        {
         "name": "acceleration",
         "rawType": "float64",
         "type": "float"
        },
        {
         "name": "vehicle_id",
         "rawType": "object",
         "type": "string"
        }
       ],
       "ref": "a32c26f3-e2e5-4d9b-a22a-8079b744097e",
       "rows": [
        [
         "0",
         "18.0",
         "8",
         "307",
         "130",
         "3504",
         "12.0",
         "C-1689780"
        ],
        [
         "1",
         "15.0",
         "8",
         "350",
         "165",
         "3693",
         "11.5",
         "B-1689791"
        ],
        [
         "2",
         "18.0",
         "8",
         "318",
         "150",
         "3436",
         "11.0",
         "P-1689802"
        ],
        [
         "3",
         "16.0",
         "8",
         "304",
         "150",
         "3433",
         "12.0",
         "A-1689813"
        ],
        [
         "4",
         "17.0",
         "8",
         "302",
         "140",
         "3449",
         "10.5",
         "F-1689824"
        ],
        [
         "5",
         "15.0",
         "8",
         "429",
         "198",
         "4341",
         "10.0",
         "F-1689835"
        ],
        [
         "6",
         "14.0",
         "8",
         "454",
         "220",
         "4354",
         "9.0",
         "C-1689846"
        ],
        [
         "7",
         "14.0",
         "8",
         "440",
         "215",
         "4312",
         "8.5",
         "P-1689857"
        ],
        [
         "8",
         "14.0",
         "8",
         "455",
         "225",
         "4425",
         "10.0",
         "P-1689868"
        ],
        [
         "9",
         "15.0",
         "8",
         "390",
         "190",
         "3850",
         "8.5",
         "A-1689879"
        ],
        [
         "10",
         "15.0",
         "8",
         "383",
         "170",
         "3563",
         "10.0",
         "D-1689890"
        ],
        [
         "11",
         "14.0",
         "8",
         "340",
         "160",
         "3609",
         "8.0",
         "P-1689901"
        ],
        [
         "12",
         "15.0",
         "8",
         "400",
         "150",
         "3761",
         "9.5",
         "C-1689912"
        ],
        [
         "13",
         "14.0",
         "8",
         "455",
         "225",
         "3086",
         "10.0",
         "B-1689923"
        ],
        [
         "14",
         "24.0",
         "4",
         "113",
         "95",
         "2372",
         "15.0",
         "T-1689934"
        ],
        [
         "15",
         "22.0",
         "6",
         "198",
         "95",
         "2833",
         "15.5",
         "P-1689945"
        ],
        [
         "16",
         "18.0",
         "6",
         "199",
         "97",
         "2774",
         "15.5",
         "A-1689956"
        ],
        [
         "17",
         "21.0",
         "6",
         "200",
         "85",
         "2587",
         "16.0",
         "F-1689967"
        ],
        [
         "18",
         "27.0",
         "4",
         "97",
         "88",
         "2130",
         "14.5",
         "D-1689978"
        ],
        [
         "19",
         "26.0",
         "4",
         "97",
         "46",
         "1835",
         "20.5",
         "V-1689989"
        ],
        [
         "20",
         "25.0",
         "4",
         "110",
         "87",
         "2672",
         "17.5",
         "P-1690000"
        ],
        [
         "21",
         "24.0",
         "4",
         "107",
         "90",
         "2430",
         "14.5",
         "A-1690011"
        ],
        [
         "22",
         "25.0",
         "4",
         "104",
         "95",
         "2375",
         "17.5",
         "S-1690022"
        ],
        [
         "23",
         "26.0",
         "4",
         "121",
         "113",
         "2234",
         "12.5",
         "B-1690033"
        ],
        [
         "24",
         "21.0",
         "6",
         "199",
         "90",
         "2648",
         "15.0",
         "A-1690044"
        ],
        [
         "25",
         "10.0",
         "8",
         "360",
         "215",
         "4615",
         "14.0",
         "F-1690055"
        ],
        [
         "26",
         "10.0",
         "8",
         "307",
         "200",
         "4376",
         "15.0",
         "C-1690066"
        ],
        [
         "27",
         "11.0",
         "8",
         "318",
         "210",
         "4382",
         "13.5",
         "D-1690077"
        ],
        [
         "28",
         "9.0",
         "8",
         "304",
         "193",
         "4732",
         "18.5",
         "H-1690088"
        ],
        [
         "29",
         "27.0",
         "4",
         "97",
         "88",
         "2130",
         "14.5",
         "D-1690099"
        ],
        [
         "30",
         "28.0",
         "4",
         "140",
         "90",
         "2264",
         "15.5",
         "C-1690110"
        ],
        [
         "31",
         "25.0",
         "4",
         "113",
         "95",
         "2228",
         "14.0",
         "T-1690121"
        ],
        [
         "32",
         "25.0",
         "4",
         "98",
         null,
         "2046",
         "19.0",
         "F-1690132"
        ],
        [
         "33",
         "19.0",
         "6",
         "232",
         "100",
         "2634",
         "13.0",
         "A-1690143"
        ],
        [
         "34",
         "16.0",
         "6",
         "225",
         "105",
         "3439",
         "15.5",
         "P-1690154"
        ],
        [
         "35",
         "17.0",
         "6",
         "250",
         "100",
         "3329",
         "15.5",
         "C-1690165"
        ],
        [
         "36",
         "19.0",
         "6",
         "250",
         "88",
         "3302",
         "15.5",
         "F-1690176"
        ],
        [
         "37",
         "18.0",
         "6",
         "232",
         "100",
         "3288",
         "15.5",
         "A-1690187"
        ],
        [
         "38",
         "14.0",
         "8",
         "350",
         "165",
         "4209",
         "12.0",
         "C-1690198"
        ],
        [
         "39",
         "14.0",
         "8",
         "400",
         "175",
         "4464",
         "11.5",
         "P-1690209"
        ],
        [
         "40",
         "14.0",
         "8",
         "351",
         "153",
         "4154",
         "13.5",
         "F-1690220"
        ],
        [
         "41",
         "14.0",
         "8",
         "318",
         "150",
         "4096",
         "13.0",
         "P-1690231"
        ],
        [
         "42",
         "12.0",
         "8",
         "383",
         "180",
         "4955",
         "11.5",
         "D-1690242"
        ],
        [
         "43",
         "13.0",
         "8",
         "400",
         "170",
         "4746",
         "12.0",
         "F-1690253"
        ],
        [
         "44",
         "13.0",
         "8",
         "400",
         "175",
         "5140",
         "12.0",
         "P-1690264"
        ],
        [
         "45",
         "18.0",
         "6",
         "258",
         "110",
         "2962",
         "13.5",
         "A-1690275"
        ],
        [
         "46",
         "22.0",
         "4",
         "140",
         "72",
         "2408",
         "19.0",
         "C-1690286"
        ],
        [
         "47",
         "19.0",
         "6",
         "250",
         "100",
         "3282",
         "15.0",
         "P-1690297"
        ],
        [
         "48",
         "18.0",
         "6",
         "250",
         "88",
         "3139",
         "14.5",
         "F-1690308"
        ],
        [
         "49",
         "23.0",
         "4",
         "122",
         "86",
         "2220",
         "14.0",
         "M-1690319"
        ]
       ],
       "shape": {
        "columns": 7,
        "rows": 398
       }
      },
      "text/html": [
       "<div>\n",
       "<style scoped>\n",
       "    .dataframe tbody tr th:only-of-type {\n",
       "        vertical-align: middle;\n",
       "    }\n",
       "\n",
       "    .dataframe tbody tr th {\n",
       "        vertical-align: top;\n",
       "    }\n",
       "\n",
       "    .dataframe thead th {\n",
       "        text-align: right;\n",
       "    }\n",
       "</style>\n",
       "<table border=\"1\" class=\"dataframe\">\n",
       "  <thead>\n",
       "    <tr style=\"text-align: right;\">\n",
       "      <th></th>\n",
       "      <th>mpg</th>\n",
       "      <th>cylinders</th>\n",
       "      <th>displacement</th>\n",
       "      <th>horsepower</th>\n",
       "      <th>weight</th>\n",
       "      <th>acceleration</th>\n",
       "      <th>vehicle_id</th>\n",
       "    </tr>\n",
       "  </thead>\n",
       "  <tbody>\n",
       "    <tr>\n",
       "      <th>0</th>\n",
       "      <td>18.0</td>\n",
       "      <td>8</td>\n",
       "      <td>307</td>\n",
       "      <td>130</td>\n",
       "      <td>3504</td>\n",
       "      <td>12.0</td>\n",
       "      <td>C-1689780</td>\n",
       "    </tr>\n",
       "    <tr>\n",
       "      <th>1</th>\n",
       "      <td>15.0</td>\n",
       "      <td>8</td>\n",
       "      <td>350</td>\n",
       "      <td>165</td>\n",
       "      <td>3693</td>\n",
       "      <td>11.5</td>\n",
       "      <td>B-1689791</td>\n",
       "    </tr>\n",
       "    <tr>\n",
       "      <th>2</th>\n",
       "      <td>18.0</td>\n",
       "      <td>8</td>\n",
       "      <td>318</td>\n",
       "      <td>150</td>\n",
       "      <td>3436</td>\n",
       "      <td>11.0</td>\n",
       "      <td>P-1689802</td>\n",
       "    </tr>\n",
       "    <tr>\n",
       "      <th>3</th>\n",
       "      <td>16.0</td>\n",
       "      <td>8</td>\n",
       "      <td>304</td>\n",
       "      <td>150</td>\n",
       "      <td>3433</td>\n",
       "      <td>12.0</td>\n",
       "      <td>A-1689813</td>\n",
       "    </tr>\n",
       "    <tr>\n",
       "      <th>4</th>\n",
       "      <td>17.0</td>\n",
       "      <td>8</td>\n",
       "      <td>302</td>\n",
       "      <td>140</td>\n",
       "      <td>3449</td>\n",
       "      <td>10.5</td>\n",
       "      <td>F-1689824</td>\n",
       "    </tr>\n",
       "    <tr>\n",
       "      <th>...</th>\n",
       "      <td>...</td>\n",
       "      <td>...</td>\n",
       "      <td>...</td>\n",
       "      <td>...</td>\n",
       "      <td>...</td>\n",
       "      <td>...</td>\n",
       "      <td>...</td>\n",
       "    </tr>\n",
       "    <tr>\n",
       "      <th>393</th>\n",
       "      <td>27.0</td>\n",
       "      <td>4</td>\n",
       "      <td>140</td>\n",
       "      <td>86</td>\n",
       "      <td>2790</td>\n",
       "      <td>15.6</td>\n",
       "      <td>F-1694103</td>\n",
       "    </tr>\n",
       "    <tr>\n",
       "      <th>394</th>\n",
       "      <td>44.0</td>\n",
       "      <td>4</td>\n",
       "      <td>97</td>\n",
       "      <td>52</td>\n",
       "      <td>2130</td>\n",
       "      <td>24.6</td>\n",
       "      <td>V-1694114</td>\n",
       "    </tr>\n",
       "    <tr>\n",
       "      <th>395</th>\n",
       "      <td>32.0</td>\n",
       "      <td>4</td>\n",
       "      <td>135</td>\n",
       "      <td>84</td>\n",
       "      <td>2295</td>\n",
       "      <td>11.6</td>\n",
       "      <td>D-1694125</td>\n",
       "    </tr>\n",
       "    <tr>\n",
       "      <th>396</th>\n",
       "      <td>28.0</td>\n",
       "      <td>4</td>\n",
       "      <td>120</td>\n",
       "      <td>79</td>\n",
       "      <td>2625</td>\n",
       "      <td>18.6</td>\n",
       "      <td>F-1694136</td>\n",
       "    </tr>\n",
       "    <tr>\n",
       "      <th>397</th>\n",
       "      <td>31.0</td>\n",
       "      <td>4</td>\n",
       "      <td>119</td>\n",
       "      <td>82</td>\n",
       "      <td>2720</td>\n",
       "      <td>19.4</td>\n",
       "      <td>C-1694147</td>\n",
       "    </tr>\n",
       "  </tbody>\n",
       "</table>\n",
       "<p>398 rows × 7 columns</p>\n",
       "</div>"
      ],
      "text/plain": [
       "      mpg  cylinders  displacement horsepower  weight  acceleration vehicle_id\n",
       "0    18.0          8           307        130    3504          12.0  C-1689780\n",
       "1    15.0          8           350        165    3693          11.5  B-1689791\n",
       "2    18.0          8           318        150    3436          11.0  P-1689802\n",
       "3    16.0          8           304        150    3433          12.0  A-1689813\n",
       "4    17.0          8           302        140    3449          10.5  F-1689824\n",
       "..    ...        ...           ...        ...     ...           ...        ...\n",
       "393  27.0          4           140         86    2790          15.6  F-1694103\n",
       "394  44.0          4            97         52    2130          24.6  V-1694114\n",
       "395  32.0          4           135         84    2295          11.6  D-1694125\n",
       "396  28.0          4           120         79    2625          18.6  F-1694136\n",
       "397  31.0          4           119         82    2720          19.4  C-1694147\n",
       "\n",
       "[398 rows x 7 columns]"
      ]
     },
     "execution_count": 7,
     "metadata": {},
     "output_type": "execute_result"
    }
   ],
   "source": [
    "# Entering the name of a dataframe produces an output with some rows\n",
    "\n",
    "carfeatures"
   ]
  },
  {
   "attachments": {},
   "cell_type": "markdown",
   "metadata": {},
   "source": [
    "<font size=\"5\"> \n",
    "\n",
    "Output data for a single column 'cylinders'"
   ]
  },
  {
   "cell_type": "code",
   "execution_count": 8,
   "metadata": {},
   "outputs": [
    {
     "data": {
      "application/vnd.microsoft.datawrangler.viewer.v0+json": {
       "columns": [
        {
         "name": "index",
         "rawType": "int64",
         "type": "integer"
        },
        {
         "name": "cylinders",
         "rawType": "int64",
         "type": "integer"
        }
       ],
       "ref": "82f00be3-59a7-4f6a-b474-99e0d6d6797e",
       "rows": [
        [
         "0",
         "8"
        ],
        [
         "1",
         "8"
        ],
        [
         "2",
         "8"
        ],
        [
         "3",
         "8"
        ],
        [
         "4",
         "8"
        ],
        [
         "5",
         "8"
        ],
        [
         "6",
         "8"
        ],
        [
         "7",
         "8"
        ],
        [
         "8",
         "8"
        ],
        [
         "9",
         "8"
        ],
        [
         "10",
         "8"
        ],
        [
         "11",
         "8"
        ],
        [
         "12",
         "8"
        ],
        [
         "13",
         "8"
        ],
        [
         "14",
         "4"
        ],
        [
         "15",
         "6"
        ],
        [
         "16",
         "6"
        ],
        [
         "17",
         "6"
        ],
        [
         "18",
         "4"
        ],
        [
         "19",
         "4"
        ],
        [
         "20",
         "4"
        ],
        [
         "21",
         "4"
        ],
        [
         "22",
         "4"
        ],
        [
         "23",
         "4"
        ],
        [
         "24",
         "6"
        ],
        [
         "25",
         "8"
        ],
        [
         "26",
         "8"
        ],
        [
         "27",
         "8"
        ],
        [
         "28",
         "8"
        ],
        [
         "29",
         "4"
        ],
        [
         "30",
         "4"
        ],
        [
         "31",
         "4"
        ],
        [
         "32",
         "4"
        ],
        [
         "33",
         "6"
        ],
        [
         "34",
         "6"
        ],
        [
         "35",
         "6"
        ],
        [
         "36",
         "6"
        ],
        [
         "37",
         "6"
        ],
        [
         "38",
         "8"
        ],
        [
         "39",
         "8"
        ],
        [
         "40",
         "8"
        ],
        [
         "41",
         "8"
        ],
        [
         "42",
         "8"
        ],
        [
         "43",
         "8"
        ],
        [
         "44",
         "8"
        ],
        [
         "45",
         "6"
        ],
        [
         "46",
         "4"
        ],
        [
         "47",
         "6"
        ],
        [
         "48",
         "6"
        ],
        [
         "49",
         "4"
        ]
       ],
       "shape": {
        "columns": 1,
        "rows": 398
       }
      },
      "text/plain": [
       "0      8\n",
       "1      8\n",
       "2      8\n",
       "3      8\n",
       "4      8\n",
       "      ..\n",
       "393    4\n",
       "394    4\n",
       "395    4\n",
       "396    4\n",
       "397    4\n",
       "Name: cylinders, Length: 398, dtype: int64"
      ]
     },
     "execution_count": 8,
     "metadata": {},
     "output_type": "execute_result"
    }
   ],
   "source": [
    "# We use square brackets [...] to subset information from data \n",
    "# Text/strings have to be written in quotation marks\n",
    "# This command extracts the column 'cylinders'\n",
    "\n",
    "carfeatures['cylinders']\n"
   ]
  },
  {
   "attachments": {},
   "cell_type": "markdown",
   "metadata": {},
   "source": [
    "<font size=\"5\"> \n",
    "\n",
    "Example: Compute a frequency table"
   ]
  },
  {
   "cell_type": "code",
<<<<<<< Updated upstream
<<<<<<< Updated upstream
<<<<<<< Updated upstream
   "execution_count": 9,
=======
   "execution_count": 6,
>>>>>>> Stashed changes
=======
   "execution_count": 6,
>>>>>>> Stashed changes
=======
   "execution_count": 6,
>>>>>>> Stashed changes
   "metadata": {},
   "outputs": [
    {
     "data": {
      "application/vnd.microsoft.datawrangler.viewer.v0+json": {
       "columns": [
        {
         "name": "cylinders",
         "rawType": "int64",
         "type": "integer"
        },
        {
         "name": "count",
         "rawType": "int64",
         "type": "integer"
        }
       ],
       "ref": "fbe5f9d3-2108-41f2-8764-99c33f7d48ea",
       "rows": [
        [
         "3",
         "4"
        ],
        [
         "4",
         "204"
        ],
        [
         "5",
         "3"
        ],
        [
         "6",
         "84"
        ],
        [
         "8",
         "103"
        ]
       ],
       "shape": {
        "columns": 1,
        "rows": 5
       }
      },
      "text/html": [
       "<div>\n",
       "<style scoped>\n",
       "    .dataframe tbody tr th:only-of-type {\n",
       "        vertical-align: middle;\n",
       "    }\n",
       "\n",
       "    .dataframe tbody tr th {\n",
       "        vertical-align: top;\n",
       "    }\n",
       "\n",
       "    .dataframe thead th {\n",
       "        text-align: right;\n",
       "    }\n",
       "</style>\n",
       "<table border=\"1\" class=\"dataframe\">\n",
       "  <thead>\n",
       "    <tr style=\"text-align: right;\">\n",
       "      <th>col_0</th>\n",
       "      <th>count</th>\n",
       "    </tr>\n",
       "    <tr>\n",
       "      <th>cylinders</th>\n",
       "      <th></th>\n",
       "    </tr>\n",
       "  </thead>\n",
       "  <tbody>\n",
       "    <tr>\n",
       "      <th>3</th>\n",
       "      <td>4</td>\n",
       "    </tr>\n",
       "    <tr>\n",
       "      <th>4</th>\n",
       "      <td>204</td>\n",
       "    </tr>\n",
       "    <tr>\n",
       "      <th>5</th>\n",
       "      <td>3</td>\n",
       "    </tr>\n",
       "    <tr>\n",
       "      <th>6</th>\n",
       "      <td>84</td>\n",
       "    </tr>\n",
       "    <tr>\n",
       "      <th>8</th>\n",
       "      <td>103</td>\n",
       "    </tr>\n",
       "  </tbody>\n",
       "</table>\n",
       "</div>"
      ],
      "text/plain": [
       "col_0      count\n",
       "cylinders       \n",
       "3              4\n",
       "4            204\n",
       "5              3\n",
       "6             84\n",
       "8            103"
      ]
     },
<<<<<<< Updated upstream
<<<<<<< Updated upstream
<<<<<<< Updated upstream
     "execution_count": 9,
=======
     "execution_count": 6,
>>>>>>> Stashed changes
=======
     "execution_count": 6,
>>>>>>> Stashed changes
=======
     "execution_count": 6,
>>>>>>> Stashed changes
     "metadata": {},
     "output_type": "execute_result"
    }
   ],
   "source": [
    "# crosstab counts how many rows fall into categories\n",
    "# \"index\" is the category\n",
    "# \"columns\" is a custom title\n",
    "\n",
    "table = pd.crosstab(index = carfeatures['cylinders'],columns = \"count\")\n",
    "table\n"
   ]
  },
  {
   "cell_type": "code",
<<<<<<< Updated upstream
<<<<<<< Updated upstream
<<<<<<< Updated upstream
   "execution_count": 10,
=======
   "execution_count": 7,
>>>>>>> Stashed changes
=======
   "execution_count": 7,
>>>>>>> Stashed changes
=======
   "execution_count": 7,
>>>>>>> Stashed changes
   "metadata": {},
   "outputs": [
    {
     "data": {
      "text/plain": [
       "'col_0'"
      ]
     },
<<<<<<< Updated upstream
<<<<<<< Updated upstream
<<<<<<< Updated upstream
     "execution_count": 10,
=======
     "execution_count": 7,
>>>>>>> Stashed changes
=======
     "execution_count": 7,
>>>>>>> Stashed changes
=======
     "execution_count": 7,
>>>>>>> Stashed changes
     "metadata": {},
     "output_type": "execute_result"
    }
   ],
   "source": [
    "table.columns.name"
   ]
  },
  {
   "cell_type": "code",
<<<<<<< Updated upstream
<<<<<<< Updated upstream
<<<<<<< Updated upstream
   "execution_count": 12,
=======
   "execution_count": 8,
>>>>>>> Stashed changes
=======
   "execution_count": 8,
>>>>>>> Stashed changes
=======
   "execution_count": 8,
>>>>>>> Stashed changes
   "metadata": {},
   "outputs": [
    {
     "data": {
      "application/vnd.microsoft.datawrangler.viewer.v0+json": {
       "columns": [
        {
         "name": "cylinders",
         "rawType": "int64",
         "type": "integer"
        },
        {
         "name": "count",
         "rawType": "int64",
         "type": "integer"
        }
       ],
       "ref": "c5c3fa73-af90-4067-bb65-3533b9f1e4b0",
       "rows": [
        [
         "3",
         "4"
        ],
        [
         "4",
         "204"
        ],
        [
         "5",
         "3"
        ],
        [
         "6",
         "84"
        ],
        [
         "8",
         "103"
        ]
       ],
       "shape": {
        "columns": 1,
        "rows": 5
       }
      },
      "text/html": [
       "<div>\n",
       "<style scoped>\n",
       "    .dataframe tbody tr th:only-of-type {\n",
       "        vertical-align: middle;\n",
       "    }\n",
       "\n",
       "    .dataframe tbody tr th {\n",
       "        vertical-align: top;\n",
       "    }\n",
       "\n",
       "    .dataframe thead th {\n",
       "        text-align: right;\n",
       "    }\n",
       "</style>\n",
       "<table border=\"1\" class=\"dataframe\">\n",
       "  <thead>\n",
       "    <tr style=\"text-align: right;\">\n",
       "      <th>column name</th>\n",
       "      <th>count</th>\n",
       "    </tr>\n",
       "    <tr>\n",
       "      <th>cylinders</th>\n",
       "      <th></th>\n",
       "    </tr>\n",
       "  </thead>\n",
       "  <tbody>\n",
       "    <tr>\n",
       "      <th>3</th>\n",
       "      <td>4</td>\n",
       "    </tr>\n",
       "    <tr>\n",
       "      <th>4</th>\n",
       "      <td>204</td>\n",
       "    </tr>\n",
       "    <tr>\n",
       "      <th>5</th>\n",
       "      <td>3</td>\n",
       "    </tr>\n",
       "    <tr>\n",
       "      <th>6</th>\n",
       "      <td>84</td>\n",
       "    </tr>\n",
       "    <tr>\n",
       "      <th>8</th>\n",
       "      <td>103</td>\n",
       "    </tr>\n",
       "  </tbody>\n",
       "</table>\n",
       "</div>"
      ],
      "text/plain": [
       "column name  count\n",
       "cylinders         \n",
       "3                4\n",
       "4              204\n",
       "5                3\n",
       "6               84\n",
       "8              103"
      ]
     },
<<<<<<< Updated upstream
<<<<<<< Updated upstream
<<<<<<< Updated upstream
     "execution_count": 12,
=======
     "execution_count": 8,
>>>>>>> Stashed changes
=======
     "execution_count": 8,
>>>>>>> Stashed changes
=======
     "execution_count": 8,
>>>>>>> Stashed changes
     "metadata": {},
     "output_type": "execute_result"
    }
   ],
   "source": [
    "table.columns.name = 'column name'\n",
    "table"
   ]
  },
  {
   "cell_type": "code",
   "execution_count": 9,
   "metadata": {},
   "outputs": [],
   "source": [
    "#-- Try the command again but this time change the title\n",
    "\n",
    "\n",
    "\n"
   ]
  },
  {
   "attachments": {},
   "cell_type": "markdown",
   "metadata": {},
   "source": [
    "<font size=\"5\"> \n",
    "\n",
    "Example: Compute basic summary statistics for all variables"
   ]
  },
  {
   "cell_type": "code",
   "execution_count": 9,
   "metadata": {},
   "outputs": [
    {
     "data": {
      "text/html": [
       "<div>\n",
       "<style scoped>\n",
       "    .dataframe tbody tr th:only-of-type {\n",
       "        vertical-align: middle;\n",
       "    }\n",
       "\n",
       "    .dataframe tbody tr th {\n",
       "        vertical-align: top;\n",
       "    }\n",
       "\n",
       "    .dataframe thead th {\n",
       "        text-align: right;\n",
       "    }\n",
       "</style>\n",
       "<table border=\"1\" class=\"dataframe\">\n",
       "  <thead>\n",
       "    <tr style=\"text-align: right;\">\n",
       "      <th></th>\n",
       "      <th>mpg</th>\n",
       "      <th>cylinders</th>\n",
       "      <th>displacement</th>\n",
       "      <th>weight</th>\n",
       "      <th>acceleration</th>\n",
       "    </tr>\n",
       "  </thead>\n",
       "  <tbody>\n",
       "    <tr>\n",
       "      <th>count</th>\n",
       "      <td>398.000000</td>\n",
       "      <td>398.000000</td>\n",
       "      <td>398.000000</td>\n",
       "      <td>398.000000</td>\n",
       "      <td>398.000000</td>\n",
       "    </tr>\n",
       "    <tr>\n",
       "      <th>mean</th>\n",
       "      <td>23.514573</td>\n",
       "      <td>5.454774</td>\n",
       "      <td>193.427136</td>\n",
       "      <td>2970.424623</td>\n",
       "      <td>15.568090</td>\n",
       "    </tr>\n",
       "    <tr>\n",
       "      <th>std</th>\n",
       "      <td>7.815984</td>\n",
       "      <td>1.701004</td>\n",
       "      <td>104.268683</td>\n",
       "      <td>846.841774</td>\n",
       "      <td>2.757689</td>\n",
       "    </tr>\n",
       "    <tr>\n",
       "      <th>min</th>\n",
       "      <td>9.000000</td>\n",
       "      <td>3.000000</td>\n",
       "      <td>68.000000</td>\n",
       "      <td>1613.000000</td>\n",
       "      <td>8.000000</td>\n",
       "    </tr>\n",
       "    <tr>\n",
       "      <th>25%</th>\n",
       "      <td>17.500000</td>\n",
       "      <td>4.000000</td>\n",
       "      <td>104.250000</td>\n",
       "      <td>2223.750000</td>\n",
       "      <td>13.825000</td>\n",
       "    </tr>\n",
       "    <tr>\n",
       "      <th>50%</th>\n",
       "      <td>23.000000</td>\n",
       "      <td>4.000000</td>\n",
       "      <td>148.500000</td>\n",
       "      <td>2803.500000</td>\n",
       "      <td>15.500000</td>\n",
       "    </tr>\n",
       "    <tr>\n",
       "      <th>75%</th>\n",
       "      <td>29.000000</td>\n",
       "      <td>8.000000</td>\n",
       "      <td>262.000000</td>\n",
       "      <td>3608.000000</td>\n",
       "      <td>17.175000</td>\n",
       "    </tr>\n",
       "    <tr>\n",
       "      <th>max</th>\n",
       "      <td>46.600000</td>\n",
       "      <td>8.000000</td>\n",
       "      <td>455.000000</td>\n",
       "      <td>5140.000000</td>\n",
       "      <td>24.800000</td>\n",
       "    </tr>\n",
       "  </tbody>\n",
       "</table>\n",
       "</div>"
      ],
      "text/plain": [
       "              mpg   cylinders  displacement       weight  acceleration\n",
       "count  398.000000  398.000000    398.000000   398.000000    398.000000\n",
       "mean    23.514573    5.454774    193.427136  2970.424623     15.568090\n",
       "std      7.815984    1.701004    104.268683   846.841774      2.757689\n",
       "min      9.000000    3.000000     68.000000  1613.000000      8.000000\n",
       "25%     17.500000    4.000000    104.250000  2223.750000     13.825000\n",
       "50%     23.000000    4.000000    148.500000  2803.500000     15.500000\n",
       "75%     29.000000    8.000000    262.000000  3608.000000     17.175000\n",
       "max     46.600000    8.000000    455.000000  5140.000000     24.800000"
      ]
     },
     "execution_count": 9,
     "metadata": {},
     "output_type": "execute_result"
    }
   ],
   "source": [
    "# \"describe\" computes the count, mean, std, min, 25% quantile, 50%, 75%, max\n",
    "# automatically excludes variables with text values\n",
    "# otherwise includes all numeric variables\n",
    "\n",
    "carfeatures.describe()"
   ]
  },
  {
   "attachments": {},
   "cell_type": "markdown",
   "metadata": {},
   "source": [
    "<font size=\"5\"> \n",
    "\n",
    "Example: Display a scatter plot "
   ]
  },
  {
   "cell_type": "code",
<<<<<<< Updated upstream
<<<<<<< Updated upstream
<<<<<<< Updated upstream
   "execution_count": 13,
=======
   "execution_count": 10,
>>>>>>> Stashed changes
=======
   "execution_count": 10,
>>>>>>> Stashed changes
=======
   "execution_count": 10,
>>>>>>> Stashed changes
   "metadata": {},
   "outputs": [
    {
     "data": {
<<<<<<< Updated upstream
<<<<<<< Updated upstream
<<<<<<< Updated upstream
      "image/png": "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",
=======
      "image/png": "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",
>>>>>>> Stashed changes
=======
      "image/png": "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",
>>>>>>> Stashed changes
=======
      "image/png": "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",
>>>>>>> Stashed changes
      "text/plain": [
       "<Figure size 640x480 with 1 Axes>"
      ]
     },
     "metadata": {},
     "output_type": "display_data"
    }
   ],
   "source": [
    "plt.scatter(x = carfeatures['acceleration'], y = carfeatures['mpg'])\n",
    "plt.show()"
   ]
  },
  {
   "cell_type": "code",
   "execution_count": 11,
   "metadata": {},
   "outputs": [
    {
     "data": {
      "image/png": "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",
      "text/plain": [
       "<Figure size 640x480 with 1 Axes>"
      ]
     },
     "metadata": {},
     "output_type": "display_data"
    }
   ],
   "source": [
    "# Try another scatter plot with x = \"acceleration\"\n",
    "\n",
    "plt.scatter(x = carfeatures['acceleration'], y = carfeatures['displacement'])\n",
    "plt.show()\n"
   ]
  }
 ],
 "metadata": {
  "kernelspec": {
   "display_name": "base",
   "language": "python",
   "name": "python3"
  },
  "language_info": {
   "codemirror_mode": {
    "name": "ipython",
    "version": 3
   },
   "file_extension": ".py",
   "mimetype": "text/x-python",
   "name": "python",
   "nbconvert_exporter": "python",
   "pygments_lexer": "ipython3",
   "version": "3.13.5"
  },
  "orig_nbformat": 4
 },
 "nbformat": 4,
 "nbformat_minor": 2
}
