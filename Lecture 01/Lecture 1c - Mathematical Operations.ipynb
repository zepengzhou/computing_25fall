{
 "cells": [
  {
   "attachments": {},
   "cell_type": "markdown",
   "metadata": {},
   "source": [
    "# <span style=\"color:darkblue\"> Lecture 1c: Mathematical Operations and Random Numbers </span>"
   ]
  },
  {
   "attachments": {},
   "cell_type": "markdown",
   "metadata": {},
   "source": [
    "<font size=\"5\"> \n",
    "\n",
    "In the previous class we:\n",
    "- Introduced lists and variable types\n",
    "- Talked about how to extract elements from a list"
   ]
  },
  {
   "attachments": {},
   "cell_type": "markdown",
   "metadata": {},
   "source": [
    "<font size=\"5\"> \n",
    "\n",
    "In this class we will:\n",
    "\n",
    "- Introduce a library for general mathematical operations\n",
    "- Generate random numbers\n",
    "- (Optional) Matrix operations"
   ]
  },
  {
   "attachments": {},
   "cell_type": "markdown",
   "metadata": {},
   "source": [
    "## <span style=\"color:darkblue\"> I. Import Libraries </span>"
   ]
  },
  {
   "cell_type": "code",
   "execution_count": 1,
   "metadata": {},
   "outputs": [],
   "source": [
    "# the \"numPy\" library is used for mathematical operations\n",
    "# the \"matplotlib\" library is for generating graphs\n",
    "\n",
    "import numpy as np\n",
    "import matplotlib.pyplot as plt\n"
   ]
  },
  {
   "attachments": {},
   "cell_type": "markdown",
   "metadata": {},
   "source": [
    "##  <span style=\"color:darkblue\"> II. Numbers and Functions </span>"
   ]
  },
  {
   "attachments": {},
   "cell_type": "markdown",
   "metadata": {},
   "source": [
    "<font size = \"5\" >\n",
    "Examples of numPy numbers"
   ]
  },
  {
   "cell_type": "code",
   "execution_count": 2,
   "metadata": {},
   "outputs": [
    {
     "data": {
      "text/plain": [
       "3.141592653589793"
      ]
     },
     "execution_count": 2,
     "metadata": {},
     "output_type": "execute_result"
    }
   ],
   "source": [
    "# Computes \"pi\" (3.14...)\n",
    "\n",
    "np.pi"
   ]
  },
  {
   "attachments": {},
   "cell_type": "markdown",
   "metadata": {},
   "source": [
    "<font size = \"5\" >\n",
    "\n",
    "Examples of numPy functions\n",
    "\n",
    "$ ln(x), e^x, sin(x), cos(x), \\sqrt{x}$"
   ]
  },
  {
   "cell_type": "code",
   "execution_count": 3,
   "metadata": {},
   "outputs": [
    {
     "name": "stdout",
     "output_type": "stream",
     "text": [
      "0.0\n",
      "2.718281828459045\n",
      "0.8414709848078965\n",
      "0.5403023058681398\n",
      "1.0\n"
     ]
    }
   ],
   "source": [
    "# log(x) computes the logarithm with base \"e\" (Euler constant)\n",
    "# exp(x) compute the Euler constant raised to the power of \"x\"\n",
    "# sin(x) computes the sine of x\n",
    "# cos(x) computes the cosine of x\n",
    "# In this example, we're substituting x = 1\n",
    "\n",
    "print(np.log(1))\n",
    "print(np.exp(1))\n",
    "print(np.sin(1))\n",
    "print(np.cos(1))\n",
    "print(np.sqrt(1))"
   ]
  },
  {
   "attachments": {},
   "cell_type": "markdown",
   "metadata": {},
   "source": [
    "<font size = \"5\">\n",
    "\n",
    "Try it yourself!\n",
    "\n",
    "- Create a new variable, $x = 5$\n",
    "- Compute $\\pi x^2$\n",
    "- Compute $ \\frac{1}{\\sqrt{2\\pi}}e^{-x^2} $"
   ]
  },
  {
   "cell_type": "code",
   "execution_count": 4,
   "metadata": {},
   "outputs": [
    {
     "name": "stdout",
     "output_type": "stream",
     "text": [
      "78.53981633974483\n",
      "5.540487995575833e-12\n"
     ]
    }
   ],
   "source": [
    "# Include your answer here:\n",
    "\n",
    "x = 5\n",
    "print(np.pi*(x**2))\n",
    "print((1/np.sqrt(2*np.pi))*np.exp(-x**2))"
   ]
  },
  {
   "cell_type": "code",
   "execution_count": 5,
   "metadata": {},
   "outputs": [],
   "source": [
    "q = 1/np.sqrt(2*np.pi)\n",
    "ex = np.exp(-x**2)"
   ]
  },
  {
   "attachments": {},
   "cell_type": "markdown",
   "metadata": {},
   "source": [
    "##  <span style=\"color:darkblue\"> III. Vector Arrays </span>"
   ]
  },
  {
   "attachments": {},
   "cell_type": "markdown",
   "metadata": {},
   "source": [
    "<font size = \"5\">\n",
    "Create an array from a list\n",
    "\n",
    "$ \\text{ }$\n",
    "$ a = \\begin{pmatrix} 1 \\\\ 2 \\\\ 3 \\end{pmatrix}\n",
    "\\qquad b = \\begin{pmatrix} 0 \\\\ 1 \\\\ 0\\end{pmatrix}\n",
    "\\qquad c = \\begin{pmatrix} 10 \\\\ 100 \\\\ 1000 \\\\ 2000 \\\\ 5000 \\end{pmatrix} \n",
    "\\qquad d = \\begin{pmatrix} 4 \\\\ 2 \\end{pmatrix} $"
   ]
  },
  {
   "cell_type": "code",
   "execution_count": 5,
   "metadata": {},
   "outputs": [],
   "source": [
    "# You create an array by converting a list [1,2,3] to a numeric object\n",
    "# \"array\" is a subfunction of the library numPy.\n",
    "\n",
    "vec_a  = np.array([1,2,3])\n",
    "vec_b  = np.array([0,1,0])\n",
    "vec_c  = np.array([10,100,1000,2000,5000])\n",
    "vec_d  = np.array([4,2])"
   ]
  },
  {
   "attachments": {},
   "cell_type": "markdown",
   "metadata": {},
   "source": [
    "<font size = \"5\">\n",
    "\n",
    "Accessing an element of an array"
   ]
  },
  {
   "cell_type": "code",
   "execution_count": 8,
   "metadata": {},
   "outputs": [
    {
     "name": "stdout",
     "output_type": "stream",
     "text": [
      "1\n",
      "3\n",
      "2\n"
     ]
    }
   ],
   "source": [
    "# Arrays, like lists, start their numbering at zero.\n",
    "# You also access them with square brackets\n",
    "\n",
    "print(vec_a[0])\n",
    "print(vec_a[2])\n",
    "print(vec_d[1])\n"
   ]
  },
  {
   "attachments": {},
   "cell_type": "markdown",
   "metadata": {},
   "source": [
    "<font size = \"5\">\n",
    "Operations with a single array and a scalar"
   ]
  },
  {
   "attachments": {},
   "cell_type": "markdown",
   "metadata": {},
   "source": [
    "<font size = \"5\">\n",
    "\n",
    "$ a + 2 = \\begin{pmatrix} a_1 + 2 \\\\ a_2 + 2 \\\\ a_3 + 2 \\end{pmatrix}$"
   ]
  },
  {
   "cell_type": "code",
   "execution_count": 9,
   "metadata": {},
   "outputs": [
    {
     "name": "stdout",
     "output_type": "stream",
     "text": [
      "[2 4 6]\n",
      "[0.5 1.  1.5]\n",
      "[3 4 5]\n",
      "[1 4 9]\n"
     ]
    }
   ],
   "source": [
    "# A scalar refers to either an int or float\n",
    "# We can do many common operations with \n",
    "\n",
    "print(vec_a * 2)\n",
    "print(vec_a / 2)\n",
    "print(vec_a + 2)\n",
    "print(vec_a ** 2)"
   ]
  },
  {
   "attachments": {},
   "cell_type": "markdown",
   "metadata": {},
   "source": [
    "<font size = \"5\">\n",
    "Element-by-element addition between two arrays of the same size\n",
    "\n",
    "$\\text{ }$\n",
    "\n",
    "$ a + b = \\begin{pmatrix} a_1 \\\\ a_2 \\\\ a_3 \\end{pmatrix} +\n",
    "          \\begin{pmatrix} b_1 \\\\ b_2 \\\\ b_3 \\end{pmatrix} =\n",
    "          \\begin{pmatrix} a_1 + b_1 \\\\ a_2 + b_2 \\\\ a_3 + b_3 \\end{pmatrix}$"
   ]
  },
  {
   "cell_type": "code",
   "execution_count": 10,
   "metadata": {},
   "outputs": [
    {
     "name": "stdout",
     "output_type": "stream",
     "text": [
      "[1 2 3]\n",
      "[0 1 0]\n"
     ]
    }
   ],
   "source": [
    "print(vec_a)\n",
    "print(vec_b)"
   ]
  },
  {
   "cell_type": "code",
   "execution_count": 11,
   "metadata": {},
   "outputs": [
    {
     "name": "stdout",
     "output_type": "stream",
     "text": [
      "[1 3 3]\n"
     ]
    }
   ],
   "source": [
    "# When you add two arrays of the same size,\n",
    "# Python adds the individual elements in each position\n",
    "\n",
    "print(vec_a + vec_b)\n"
   ]
  },
  {
   "attachments": {},
   "cell_type": "markdown",
   "metadata": {},
   "source": [
    "<font size =\"5\">\n",
    "\n",
    "The default multiplication option is element-by element:\n",
    "\n",
    "$ a * b = \\begin{pmatrix} a_1 * b_1 \\\\ a_2 * b_2 \\\\ a_3 * b_3 \\end{pmatrix}$"
   ]
  },
  {
   "cell_type": "code",
   "execution_count": 12,
   "metadata": {},
   "outputs": [
    {
     "name": "stdout",
     "output_type": "stream",
     "text": [
      "[0 2 0]\n",
      "[1 1 3]\n",
      "[inf  2. inf]\n"
     ]
    },
    {
     "name": "stderr",
     "output_type": "stream",
     "text": [
      "/var/folders/1b/jzb9ndz97b5260fzr9d8kzyh5f7xd6/T/ipykernel_25807/3839639845.py:6: RuntimeWarning: divide by zero encountered in divide\n",
      "  print(vec_a / vec_b)\n"
     ]
    }
   ],
   "source": [
    "# We can do other similar element-by-element operations\n",
    "# such as multiplication, subtraction, and division.\n",
    "\n",
    "print(vec_a * vec_b)\n",
    "print(vec_a - vec_b)\n",
    "print(vec_a / vec_b)\n"
   ]
  },
  {
   "attachments": {},
   "cell_type": "markdown",
   "metadata": {},
   "source": [
    "<font size = \"5\">\n",
    "Summary statistics of an array"
   ]
  },
  {
   "cell_type": "code",
   "execution_count": 13,
   "metadata": {},
   "outputs": [
    {
     "name": "stdout",
     "output_type": "stream",
     "text": [
      "2.0\n",
      "0.816496580927726\n",
      "1\n",
      "2.0\n",
      "3\n"
     ]
    }
   ],
   "source": [
    "# The function np.mean() computes the mean of an array\n",
    "# We can do similar operations for the standard deviation (std),\n",
    "# the minimum (min), the median (median), and the maximum (max).\n",
    "\n",
    "print(np.mean(vec_a))\n",
    "print(np.std(vec_a))\n",
    "print(np.min(vec_a))\n",
    "print(np.median(vec_a))\n",
    "print(np.max(vec_a))"
   ]
  },
  {
   "attachments": {},
   "cell_type": "markdown",
   "metadata": {},
   "source": [
    "<font size = \"5\">\n",
    "\n",
    "Try it yourself! Compute the mean of\n",
    "\n",
    "\n",
    "$ e = \\begin{pmatrix} 10 \\\\ 8 \\\\ 15 \\\\ 0 \\\\ 24 \\end{pmatrix} $"
   ]
  },
  {
   "cell_type": "code",
   "execution_count": 9,
   "metadata": {},
   "outputs": [
    {
     "name": "stdout",
     "output_type": "stream",
     "text": [
      "11.4\n"
     ]
    }
   ],
   "source": [
    "# Create your own array and compute any of the above summary statistics\n",
    "vec_e= np.array([10,8,15,0,24])\n",
    "\n",
    "print(np.mean(vec_e))\n",
    "\n",
    "\n",
    "\n"
   ]
  },
  {
   "attachments": {},
   "cell_type": "markdown",
   "metadata": {},
   "source": [
    "<font size = \"5\">\n",
    "<span style=\"color:red\"> Common Pitfall </span>: Make sure that the arrays have the same size"
   ]
  },
  {
   "cell_type": "code",
   "execution_count": 15,
   "metadata": {},
   "outputs": [
    {
     "name": "stdout",
     "output_type": "stream",
     "text": [
      "[1 2 3]\n",
      "[  10  100 1000 2000 5000]\n"
     ]
    }
   ],
   "source": [
    "print(vec_a)\n",
    "print(vec_c)"
   ]
  },
  {
   "cell_type": "code",
   "execution_count": null,
   "metadata": {},
   "outputs": [
    {
     "data": {
      "text/plain": [
       "(5,)"
      ]
     },
     "execution_count": 12,
     "metadata": {},
     "output_type": "execute_result"
    }
   ],
   "source": [
    "vec_a.shape\n",
    "vec_c.shape\n",
    "# The shapes are different, so we cannot do element-by-element operations"
   ]
  },
  {
   "cell_type": "code",
   "execution_count": 17,
   "metadata": {},
   "outputs": [
    {
     "ename": "ValueError",
     "evalue": "operands could not be broadcast together with shapes (3,) (5,) ",
     "output_type": "error",
     "traceback": [
      "\u001b[0;31m---------------------------------------------------------------------------\u001b[0m",
      "\u001b[0;31mValueError\u001b[0m                                Traceback (most recent call last)",
      "Cell \u001b[0;32mIn[17], line 3\u001b[0m\n\u001b[1;32m      1\u001b[0m \u001b[38;5;66;03m# Here I try to combine two arrays of different size.\u001b[39;00m\n\u001b[0;32m----> 3\u001b[0m \u001b[43mvec_a\u001b[49m\u001b[43m \u001b[49m\u001b[38;5;241;43m+\u001b[39;49m\u001b[43m \u001b[49m\u001b[43mvec_c\u001b[49m\n",
      "\u001b[0;31mValueError\u001b[0m: operands could not be broadcast together with shapes (3,) (5,) "
     ]
    }
   ],
   "source": [
    "# Here I try to combine two arrays of different size.\n",
    "\n",
    "vec_a + vec_c"
   ]
  },
  {
   "attachments": {},
   "cell_type": "markdown",
   "metadata": {},
   "source": [
    "##  <span style=\"color:darkblue\"> IV. Random Numbers </span>\n",
    "\n",
    "<font size = \"5\">\n",
    "\n",
    "Why randomness?\n",
    "\n",
    "- Simulate different scenarios: high risk or low risk\n",
    "- Study properties of a complex system and/or estimator\n",
    "- In medicine, randomly assign subjects to treatment or control"
   ]
  },
  {
   "attachments": {},
   "cell_type": "markdown",
   "metadata": {},
   "source": [
    "<font size = \"5\">\n",
    "\n",
    "Create a vector of random variables"
   ]
  },
  {
   "cell_type": "code",
   "execution_count": null,
   "metadata": {},
   "outputs": [
    {
     "name": "stdout",
     "output_type": "stream",
     "text": [
      "[-0.52003027  1.09799504  1.64555183 -1.06587779 -2.65768188  1.29829786\n",
      "  1.19253713 -0.15110899 -1.16338391  1.07802875]\n"
     ]
    }
   ],
   "source": [
    "# This code creates a vector of random variables \n",
    "# generated from a normal distribution with\n",
    "# mean \"loc\" (location) and standard deviation \"scale\"\n",
    "# the number of distinct variabels is \"size\"\n",
    "\n",
    "randomvar_a = np.random.normal(loc=0, scale=1, size=10)\n",
    "print(randomvar_a)"
   ]
  },
  {
   "attachments": {},
   "cell_type": "markdown",
   "metadata": {},
   "source": [
    "<font size = \"5\">\n",
    "\n",
    "Random numbers differ every time!\n",
    "\n",
    "- Avoid this problem by drawing from a \"pregenerated\" set.\n",
    "- This is called a seed"
   ]
  },
  {
   "cell_type": "code",
   "execution_count": 55,
   "metadata": {},
   "outputs": [
    {
     "name": "stdout",
     "output_type": "stream",
     "text": [
      "[-0.41675785 -0.05626683 -2.1361961   1.64027081 -1.79343559 -0.84174737\n",
      "  0.50288142 -1.24528809 -1.05795222 -0.90900761]\n"
     ]
    }
   ],
   "source": [
    "# Your computer will typically generate different numbers every time you run a command\n",
    "# However, sometimes you want to be able to replicate the results\n",
    "# You can choose any other number instead of \"12345\". This will produce another set\n",
    "# of random numbers, but they will give the same answers\n",
    "\n",
    "np.random.seed(2) \n",
    "\n",
    "random_var_b = np.random.normal(loc=0, scale=1, size=10)\n",
    "print(random_var_b)"
   ]
  },
  {
   "attachments": {},
   "cell_type": "markdown",
   "metadata": {},
   "source": [
    "<font size = \"5\">\n",
    "\n",
    "Compute a histogram with the results"
   ]
  },
  {
   "cell_type": "code",
   "execution_count": null,
   "metadata": {},
   "outputs": [
    {
     "name": "stdout",
     "output_type": "stream",
     "text": [
      "[-1.09955534  2.40364558 -1.67133433 -0.65533048  0.8904583  -0.28105168\n",
      "  0.95349042  0.14525919  0.52509892 -1.63835176]\n"
     ]
    },
    {
     "data": {
      "text/plain": [
       "Text(0, 0.5, 'Frequency')"
      ]
     },
     "execution_count": 26,
     "metadata": {},
     "output_type": "execute_result"
    },
    {
     "data": {
      "image/png": "[encoded data removed]",
      "text/plain": [
       "<Figure size 640x480 with 1 Axes>"
      ]
     },
     "metadata": {},
     "output_type": "display_data"
    }
   ],
   "source": [
    "# Compute a histogram\n",
    "# You can edit the number of bins with plt.hist(x = randomvar_a)\n",
    "\n",
    "randomvar_x = np.random.normal(loc=0, scale=1, size=10)\n",
    "print(randomvar_x)\n",
    "\n",
    "plt.hist(x = randomvar_x)\n",
    "plt.xlabel(\"Variable a\")\n",
    "plt.ylabel(\"Frequency\")"
   ]
  },
  {
   "attachments": {},
   "cell_type": "markdown",
   "metadata": {},
   "source": [
    "<font size = \"5\">\n",
    "\n",
    "Try this again with $size = 100, 1000, 10000$"
   ]
  },
  {
   "cell_type": "code",
   "execution_count": 14,
   "metadata": {},
   "outputs": [
    {
     "name": "stdout",
     "output_type": "stream",
     "text": [
      "[-7.95641270e-01 -3.79831263e-01 -1.21236306e-02  6.83491547e-01\n",
      "  4.29952027e-01  1.09721664e+00  3.57505117e-01  6.17406904e-01\n",
      " -1.22226500e+00  4.63430956e-01  1.09867598e+00  2.59867812e-01\n",
      " -2.43970272e-01 -1.39611862e+00  8.45509691e-01  6.21244918e-02\n",
      " -7.61273769e-01 -8.12302661e-01 -6.51373972e-02  1.02637696e+00\n",
      "  8.95656276e-01 -7.26170035e-01  1.05005161e+00  3.71796313e-01\n",
      " -1.46565906e+00 -1.31782377e-01  3.45995545e-01 -5.64311818e-01\n",
      "  8.33287436e-03 -1.00671120e+00  3.26101908e-02 -3.96494482e-01\n",
      " -1.04036916e+00  1.12733035e+00 -1.51655301e+00 -1.09978272e+00\n",
      "  8.51258574e-01  9.88363715e-02 -4.60322551e-01 -1.72142843e-01\n",
      "  6.01459078e-01  8.43075068e-03 -2.25102067e-01  2.68695979e-01\n",
      "  2.04160775e+00 -1.20578592e+00  2.85556545e-01  8.24189163e-01\n",
      " -7.73638886e-01  2.64229746e-01  2.92968802e-02  1.35376610e-02\n",
      " -1.65396191e+00 -1.77214871e+00  1.22877025e-01 -1.37685789e+00\n",
      "  1.50607769e+00 -3.88165357e-01  5.68036659e-01 -7.81354988e-01\n",
      "  1.25836019e+00 -1.06936784e-01 -1.26035394e+00 -5.84821819e-01\n",
      "  1.33825580e+00 -5.34335835e-01  1.86932543e+00  1.73260260e+00\n",
      " -5.80481849e-01  4.74698660e-01  1.93171799e-01 -2.02043192e+00\n",
      "  3.13214364e-01  3.00981589e-02  5.17766180e-01  1.55131243e-01\n",
      "  1.06999860e+00  3.06761776e-01  2.90108053e-01  8.42715468e-01\n",
      "  1.33092790e-01  1.19699120e-01  1.63319541e+00 -5.03335084e-01\n",
      " -5.62515233e-01  3.26463398e-01  8.02998394e-01 -1.16047094e-01\n",
      "  1.36588687e-01 -1.77933028e+00 -1.11027870e-01  4.05148784e-01\n",
      "  1.54464180e+00 -2.84296888e+00  1.32746686e-01 -1.09330412e+00\n",
      " -2.15030584e-01 -3.00368441e-01  4.55291255e-01  2.89784658e-01\n",
      "  8.72560382e-01  1.38361651e+00 -2.49927243e-01 -1.35975670e+00\n",
      "  1.01308025e+00 -6.45200333e-03  2.38851220e+00  2.78377915e-03\n",
      " -5.06456727e-01  4.91633745e-01 -1.33608739e-01 -8.80748311e-01\n",
      " -8.86868841e-01 -2.11861058e+00 -2.15423754e-02 -1.00898817e+00\n",
      "  1.08350455e-01 -4.10979512e-01 -3.65960241e-01  3.01333890e-01\n",
      " -3.71696653e-01  1.01853425e-01 -6.16245255e-01  9.89236391e-01\n",
      "  5.81864087e-01 -3.45754882e-01  9.55115231e-01  1.34215384e+00\n",
      "  1.83754919e+00 -6.39553666e-01 -5.39515453e-02  1.07300664e+00\n",
      "  4.77667418e-01 -1.27081849e+00  2.10711889e+00  1.24205975e+00\n",
      "  5.61864978e-01  8.85261137e-01 -4.02378687e-01 -3.89548384e-01\n",
      " -4.09838805e-01  1.69668938e+00 -2.54421374e-01  5.54299951e-01\n",
      "  3.81313053e-01  6.27302209e-01 -1.25595214e-01  5.57472455e-01\n",
      " -3.99606912e-01  8.23202321e-01  8.70975940e-01  1.76888368e-01\n",
      "  4.72496055e-01 -4.53119354e-01  2.19245606e-02  1.94212902e+00\n",
      "  2.31885469e-01 -8.83348146e-01  1.36341677e+00  1.33510651e+00\n",
      "  1.28789816e+00  2.01281905e+00 -1.30007429e-02  2.96848642e-01\n",
      " -1.24821283e-01 -1.88197143e+00 -1.33240500e+00 -1.14690032e+00\n",
      " -9.74913234e-01  1.01287265e+00  1.15731945e-01 -5.12404211e-01\n",
      " -1.66116314e-01  1.30015720e+00 -8.43195255e-01 -6.74767812e-01\n",
      " -7.34904458e-01 -1.66035462e+00  7.38951025e-01 -4.96751094e-01\n",
      " -3.41720386e-01  8.68458239e-01  1.60575427e+00  3.95179174e-02\n",
      "  5.28961785e-01 -1.98958592e-01 -4.36543773e-01  1.78163095e+00\n",
      "  4.10070867e-02 -2.17605018e-01 -4.34836131e-01  4.95829110e-01\n",
      "  9.82198983e-01  9.59988647e-01  5.36045407e-01  1.28624678e-01\n",
      "  2.44731793e+00 -3.94386496e-01 -2.55460280e-01  1.13324024e+00\n",
      " -9.09232950e-01  7.27341316e-01  6.25656223e-01  4.96442617e-01\n",
      "  1.48930458e+00  1.07176700e+00 -6.05945161e-01  9.69071491e-01\n",
      " -3.63342817e-01 -1.27384179e+00  7.54007871e-01  1.81175082e+00\n",
      "  2.99679713e-01 -5.90778186e-01  2.06145387e-01  2.25436049e-01\n",
      " -5.21732570e-01 -2.27365296e-01  6.38139516e-01 -2.25271767e-01\n",
      " -4.14550516e-01 -8.68124794e-01  1.47771657e+00 -8.66538172e-01\n",
      "  2.02986773e-01  9.63160466e-02  1.56536909e+00  8.19907792e-01\n",
      " -2.07217552e-01  1.73643524e-02 -1.74692692e+00  1.03652233e-01\n",
      " -2.97007473e-01  2.32728786e-01 -5.92924386e-01  3.66726875e-01\n",
      "  6.87220272e-02  4.13760073e-01 -1.11946124e+00 -5.93990254e-01\n",
      "  1.02617723e+00 -4.96643169e-01  9.25841704e-01 -7.85001393e-01\n",
      "  1.12726987e+00  2.12975966e-01  1.21493840e+00  1.08622790e+00\n",
      "  2.19723747e-01 -2.73975260e-01  1.41358194e-01 -6.60080641e-01\n",
      " -4.77136204e-01 -2.05004761e+00  1.51257308e-01 -2.07821143e-01\n",
      "  1.47243727e-01  6.60336179e-01 -2.11250193e+00 -1.86893545e+00\n",
      " -1.40484305e+00 -1.40344235e+00 -6.65249942e-02 -7.79356454e-01\n",
      "  8.69218839e-01 -6.13575729e-01  2.02055443e-01 -6.79608914e-01\n",
      " -2.66952306e-02 -1.01287099e+00  3.31670257e-01  4.24067992e-01\n",
      "  1.95250467e-01  3.70190120e-01  1.04631862e+00 -5.51839022e-01\n",
      " -2.50163817e-01 -1.45727226e+00 -1.05469717e+00  2.67211255e-01\n",
      "  2.22842684e+00 -4.27298503e-01 -7.58374469e-01  1.64912960e+00\n",
      " -2.59530902e-01 -6.45532332e-01 -8.87460289e-01  1.97381978e-01\n",
      " -4.33692776e-01  4.48715923e-01 -4.91892389e-01  1.31310395e+00\n",
      "  2.08599809e-01  7.87391040e-01  1.81735329e+00 -1.54397649e+00\n",
      " -1.22216335e+00  6.10587828e-01 -8.70622822e-03  5.91377383e-01\n",
      " -1.80728488e-01  2.88406106e-01 -4.28404482e-01  3.34919692e-01\n",
      "  9.24862062e-01 -9.87230906e-01 -1.83430449e+00  3.17516858e-01\n",
      " -1.09853586e+00 -1.25703427e+00 -2.22773086e-01 -1.31739999e+00\n",
      "  7.88314330e-01 -1.02139232e+00  6.55445341e-02 -1.12403657e+00\n",
      "  2.46176839e-01  1.58948511e-02  1.19178530e+00  1.06656328e+00\n",
      " -4.82069467e-01 -1.88625748e+00  1.07475147e+00 -5.56110691e-01\n",
      "  1.12273938e+00 -3.45004090e-01  2.21393379e+00  9.36425052e-02\n",
      "  1.11003603e-01 -1.22715310e+00  8.84983358e-01 -3.01809468e-01\n",
      " -3.77517939e-01  1.58304792e+00 -1.50804444e+00 -5.73735405e-01\n",
      "  3.08554387e-01  3.21706846e-01 -9.51884080e-01 -1.81534929e+00\n",
      " -1.61232062e+00  1.91486807e+00 -2.37680150e+00  8.15956470e-01\n",
      "  9.78941115e-01 -1.84051277e-02  6.34139747e-01  1.62308811e+00\n",
      "  1.53730849e+00 -1.30934359e-01  1.55018459e+00  1.43754182e+00\n",
      "  8.27080365e-01  2.57891878e-01  1.08850908e+00 -6.59605153e-01\n",
      " -3.59615108e-01  3.82120861e-01  7.89317781e-02 -1.52987750e+00\n",
      " -6.95535099e-01  9.11894594e-01  1.70073363e-02  7.38076895e-01\n",
      "  9.83699590e-02 -9.52141861e-01 -1.87238233e+00  2.18723573e-01\n",
      "  2.96872319e-01  1.18837381e+00  1.51345981e+00 -2.38070976e-01\n",
      "  1.18249352e+00 -1.06442038e+00 -1.22058746e+00  6.31178199e-01\n",
      " -1.75980758e+00  1.34394468e+00 -1.56907061e+00  1.56123010e+00\n",
      " -1.84989306e+00  2.20530382e-01 -6.85035093e-01  1.60725935e-02\n",
      "  4.86918639e-01 -5.35114991e-01 -1.15734201e+00 -8.65448896e-01\n",
      "  2.27178969e-01  4.76691535e-01  5.07530195e-01 -7.12262574e-01\n",
      "  9.76790779e-01 -6.11074553e-02 -1.17622300e+00 -1.25926486e+00\n",
      " -1.58740715e+00 -4.35558885e-01 -1.25927649e+00  2.72415958e-01\n",
      " -1.05785772e-01 -6.76347086e-01 -1.34448204e+00  2.07262755e+00\n",
      " -6.51679476e-01 -9.23817576e-01 -1.45809421e-01 -1.67900041e-01\n",
      "  3.59564032e-01  2.45145718e-03  3.20090736e-01  1.13152800e+00\n",
      "  7.28146678e-01 -6.62345429e-01  4.21522976e-01 -6.51707925e-01\n",
      " -4.91042475e-01  2.87717960e-01 -8.77163430e-01  1.22148314e+00\n",
      "  1.02395840e+00  7.65795229e-01  1.20959243e+00 -4.53776321e-01\n",
      " -4.26663161e-01 -7.87566620e-01 -1.06340330e-02  4.17566343e-01\n",
      " -6.38751934e-01  1.02699642e+00  1.26034396e+00 -4.30909422e-01\n",
      " -7.98173124e-01 -2.79635937e-01 -2.21099528e-01 -1.61154088e+00\n",
      " -1.63420616e+00  9.48895571e-01  1.17216023e+00  3.89578666e-01\n",
      " -1.09557936e+00  6.50110575e-01 -8.47924204e-01  1.70133357e-03\n",
      "  8.78304189e-01  1.58295619e-01 -2.81990817e-01  1.29711070e+00\n",
      "  3.84380845e-01 -6.70339119e-01 -1.09481765e+00 -7.16796254e-01\n",
      "  2.32289127e-01 -5.29995815e-01 -1.92751529e-02 -1.29868484e-01\n",
      "  2.05011859e+00  4.66832586e-01 -2.14826744e+00  6.87087735e-01\n",
      "  3.96981448e-01 -7.52643139e-01  1.18317843e+00 -1.10548942e+00\n",
      " -3.97966164e-01 -1.37815219e+00 -2.01514262e+00  3.95950582e-01\n",
      "  7.65288033e-02  2.14296931e+00  9.70275361e-01 -4.21497685e-01\n",
      " -7.55146040e-01 -9.15876257e-01  4.74003922e-01  1.39181145e+00\n",
      " -6.24926485e-01  1.01594768e+00  3.80727928e-01  5.27155854e-01\n",
      " -1.22300936e-01 -3.46989495e-01  1.10801163e+00  3.09252885e-01\n",
      "  8.38135298e-01  1.80194450e+00  1.70476429e-01  2.66975047e-01\n",
      " -1.54776896e+00 -6.08983734e-01  8.97105025e-02  5.22086104e-01\n",
      " -5.62851251e-01  1.05681189e+00  4.42549598e-02  2.38835893e-01\n",
      "  1.58893878e+00 -5.09395682e-01 -1.65554042e+00  1.34899649e+00\n",
      "  4.36427379e-01  1.49862900e-01  1.99100138e-01  5.57546985e-01\n",
      " -7.93296498e-01 -1.89984707e-02  6.06812826e-01  4.90113657e-01\n",
      " -7.20098587e-01  1.07515990e+00 -8.16352499e-01  9.88779937e-01\n",
      "  6.11644498e-01  7.86849588e-01  1.88339485e-01  1.51702986e+00\n",
      "  2.31135792e-01 -9.86303627e-01 -2.43300090e-02  2.32882268e+00\n",
      "  4.48718465e-01 -9.65526115e-01  1.85576659e+00 -1.35933593e+00\n",
      "  2.12759215e+00  1.42364332e+00  1.23502967e-02 -1.76943904e+00\n",
      "  1.88339749e+00  2.44289759e+00  6.44756424e-01  3.43644628e-01\n",
      " -3.05616209e-01  3.86195214e-01 -1.19572950e+00 -1.88459169e-01\n",
      " -2.94079147e-01 -1.38083385e+00  8.75054497e-01  1.61467098e-01\n",
      "  1.04095102e+00 -1.07051094e+00 -8.37043273e-02  7.40613203e-02\n",
      "  1.62937868e+00  5.58006867e-01 -2.73463629e+00 -6.68203539e-01\n",
      " -1.06771639e+00 -1.07337645e+00  4.33575479e-01  2.10172902e+00\n",
      "  4.37703484e-01 -1.30342846e+00  7.76298463e-01 -2.83454889e-02\n",
      " -2.55132740e-01  8.87248383e-01  1.02285484e-01  1.26789128e+00\n",
      "  1.19940267e+00 -1.63180460e-01  6.04155120e-01 -1.42598249e+00\n",
      " -6.59117341e-01  7.70348547e-01 -1.87725001e-01  4.37726764e-01\n",
      " -2.33725717e-01  1.88284690e-01 -5.60694160e-01  1.35207506e+00\n",
      " -1.04021611e+00 -1.18423433e+00  1.24905354e+00 -1.00812868e+00\n",
      " -9.17528731e-01  1.63825644e-01  7.79054855e-01 -8.41728692e-01\n",
      " -8.66438315e-01  7.72218661e-01  9.21063995e-01  6.06249177e-01\n",
      " -4.90308448e-01  8.03675945e-02  1.20772859e+00  6.89561393e-01\n",
      " -9.13612456e-01 -8.03859078e-01 -1.68098259e-01 -6.00511695e-01\n",
      "  1.27834917e-01 -9.66033333e-01 -2.10685585e-01 -1.05545477e+00\n",
      "  7.15584280e-01 -9.69518500e-02 -1.67401556e+00 -1.69117850e+00\n",
      " -2.56693417e+00 -1.01956944e+00 -9.45342530e-01 -1.13741112e+00\n",
      " -7.63297328e-01 -5.39715470e-01 -5.38929011e-01 -6.50964114e-01\n",
      " -1.00883412e+00  1.47459096e+00 -2.19261677e+00 -1.17256212e+00\n",
      " -4.37494211e-01  5.35830496e-01 -4.03517214e-02 -4.08965824e-01\n",
      " -1.83132451e-01 -1.46776355e-01 -6.16619742e-01  1.64207249e+00\n",
      "  1.39583368e-01  4.63005272e-02 -1.02194394e+00  1.13711191e+00\n",
      "  8.49595682e-01  1.28791996e-01 -8.78066122e-01  5.93515670e-01\n",
      " -1.10933855e+00 -1.56482192e+00 -1.26337771e+00  1.60714534e+00\n",
      " -3.50682427e-01  4.84542856e-01 -1.84134896e+00 -4.71023809e-01\n",
      "  1.12020514e-01  5.54460131e-01 -2.30575336e-02 -2.62922082e-01\n",
      " -9.19102551e-01 -6.14016841e-01 -2.49040280e-01 -6.27032389e-01\n",
      "  8.39974808e-01  4.16135213e-01  6.02155641e-01  6.98444408e-01\n",
      " -3.36272221e-01 -8.93227559e-01 -3.84533844e-01 -1.69422245e+00\n",
      " -8.90763900e-01  1.14728636e+00  8.63881211e-01  1.47231345e+00\n",
      "  2.98891718e-01  2.21339633e+00  4.61876439e-01  1.63702477e+00\n",
      "  1.95360321e+00 -1.54246255e+00 -2.70798474e-01  4.33970549e-01\n",
      "  1.52998409e+00 -2.74706463e-01  1.51794338e+00 -1.06930844e+00\n",
      " -1.73224183e+00 -6.72729928e-02 -1.41768277e+00 -7.32584614e-01\n",
      "  2.18827551e+00  9.22772071e-01  7.76892212e-01  1.01553421e+00\n",
      "  1.03110707e+00 -8.37903998e-01  6.91236588e-01  1.51149795e+00\n",
      " -4.05292786e-01  5.18395775e-01  4.99665521e-01 -3.28209069e-01\n",
      "  1.30634047e+00  1.15185937e+00 -1.61332301e-02 -8.74751428e-02\n",
      " -4.76142212e-01  8.60770511e-01  1.28052391e+00 -1.11562555e+00\n",
      " -2.49142425e-01 -6.45410715e-02  2.91739404e-01 -1.92967981e+00\n",
      " -5.05651903e-01  1.23333717e+00 -1.18598479e+00 -1.40703078e+00\n",
      " -9.11843827e-02 -6.76595100e-01 -5.20255855e-01 -1.10543197e-02\n",
      " -3.58503107e-01 -1.92977962e-01  3.15311637e-01 -9.10780586e-01\n",
      "  7.46140898e-01  1.02591111e+00  2.38921526e+00  8.77730779e-01\n",
      "  8.43818063e-01  1.81435428e-01  5.37908826e-01  7.49345346e-01\n",
      "  1.89793151e+00  1.12568759e+00  6.42358440e-01 -1.72595495e+00\n",
      " -6.40302459e-01  1.36710869e+00 -1.24003630e+00  5.43086688e-01\n",
      " -1.54556691e-01  4.63258182e-01  1.09206823e+00 -2.60124791e+00\n",
      " -4.05821480e-01  5.19463474e-01  7.62849541e-01  1.37245662e+00\n",
      " -4.18131777e-01  9.95098045e-01  7.79170860e-02  8.69656399e-02\n",
      "  2.65438813e-01 -7.54401316e-01 -2.46422915e-01  1.37068552e+00\n",
      "  1.67317445e+00  1.65354256e-01 -6.12286625e-01 -1.07902693e+00\n",
      " -5.17097709e-01 -7.25424508e-01  3.89384683e-01 -1.92596954e+00\n",
      " -2.09758757e-01 -3.41731443e-02 -1.30689731e+00  2.58671661e+00\n",
      " -5.35501173e-01  5.50528748e-02  5.60835627e-01 -4.82909272e-01\n",
      " -2.64509827e+00 -1.46597493e+00  2.85989242e-01 -7.89878437e-01\n",
      "  8.61801965e-01 -3.26511863e-02 -1.54369636e+00  9.79607279e-01\n",
      "  4.93608141e-01 -6.80702411e-01  1.08479070e-01 -8.08377447e-01\n",
      "  8.16370250e-01  1.99090716e+00 -3.33337172e-01 -9.74376957e-01\n",
      "  3.96977310e-01  2.63981705e+00 -1.17218673e+00  4.66857725e-01\n",
      " -2.65847197e+00  5.01898304e-01 -4.01063304e-01  7.80961316e-01\n",
      " -2.39158553e+00  3.61270529e-02  1.15301969e+00  2.36109483e-01\n",
      " -4.09331570e-01  1.37687277e+00 -1.11200175e+00  3.34530438e-01\n",
      "  8.33156663e-01 -7.96302413e-02  9.90377508e-02 -1.35107291e+00\n",
      "  1.03353502e+00 -2.36130621e-01  3.35916855e-01 -1.29010855e+00\n",
      "  8.54429934e-02  5.72155757e-01  1.21499268e+00 -1.04675576e+00\n",
      "  1.87261117e+00 -8.76962717e-01  1.92079882e+00  2.15811469e+00\n",
      "  3.11548024e-02 -2.01463191e-01  1.98302931e+00  9.03638235e-01\n",
      " -9.61103766e-01  8.15267657e-01  7.79758222e-01  5.61813549e-01\n",
      "  3.78508461e-02  4.13344014e-02  6.30119580e-01  1.06002082e+00\n",
      " -5.50288760e-01 -4.74012350e-01 -6.70806460e-01 -1.19430607e+00\n",
      " -3.70080235e-02  5.30098682e-01  2.46567437e+00 -2.03364516e+00\n",
      "  4.77320087e-01  1.19953599e+00 -3.57482899e-01 -9.05818670e-02\n",
      " -9.24148698e-01  1.09930317e+00  6.42568161e-01  1.03014791e+00\n",
      "  5.03645068e-01  1.26049608e+00 -7.68145572e-02 -2.28733461e-01\n",
      " -1.16104932e+00 -1.70740662e-01 -1.80390752e-01 -9.92319600e-01\n",
      "  1.55809180e+00 -5.27145843e-01 -3.98850133e-01 -2.21143643e+00\n",
      " -5.84335256e-01 -1.97259030e-01 -4.99540457e-01  2.78761256e-01\n",
      "  4.46249940e-02 -8.00864152e-01  8.95484864e-01 -3.45435893e-01\n",
      " -7.71339207e-01 -1.70574204e+00 -4.70883281e-01  2.94930191e-01\n",
      "  1.40364643e+00  2.17166972e+00  1.35765095e+00 -1.04219406e+00\n",
      " -3.40073549e-01  1.76429401e+00  8.28618795e-01  1.83990274e+00\n",
      "  6.85166210e-01 -1.53341178e+00 -2.76233677e-02 -8.46587768e-01\n",
      " -3.90813765e-01  7.07865281e-01  4.21348370e-02  6.65010680e-01\n",
      "  1.91283399e-01 -8.81840915e-01  1.87154717e+00  3.11768263e+00\n",
      " -1.88892563e+00 -6.11223913e-01 -6.96178611e-01  2.60215208e-01\n",
      " -9.15285245e-01 -9.79131605e-01 -7.55773639e-01  8.55783189e-01\n",
      " -6.60919770e-01  1.00806540e+00 -1.50517258e-01 -3.82991647e-01\n",
      " -3.39093399e-01 -9.67071949e-01  1.60219289e-02  1.00307377e+00\n",
      "  7.38654720e-01 -8.68702927e-01 -4.65114442e-01  1.23440850e+00\n",
      " -2.20846099e+00 -5.94873174e-01 -2.54439420e-02 -8.80140313e-01\n",
      " -9.08929433e-02 -1.58125635e+00 -2.77406143e-01 -9.81558691e-01\n",
      " -8.86142877e-01 -5.07910680e-01  6.07523375e-01 -4.29638854e-01\n",
      "  7.69991570e-01 -6.57372896e-01 -9.65689454e-01  1.32241208e+00\n",
      " -7.69728383e-01  7.25578853e-01 -1.01933188e+00  1.37979818e+00\n",
      "  5.59283452e-01 -1.84042344e+00  1.57470239e+00 -1.37433289e-01\n",
      "  2.37681595e+00 -9.62005959e-01 -8.50141166e-01  1.92996013e-01\n",
      "  5.47113791e-01  1.78934844e+00  1.24937424e-01 -8.38603024e-01\n",
      "  1.04964518e+00  6.59229691e-02  1.29300972e-01  1.29971363e-01\n",
      "  3.76489725e-03 -7.09964339e-01 -4.79710879e-01  7.03237602e-01\n",
      "  2.13101620e-01  1.24112040e-01  4.61347969e-01  2.62214176e+00\n",
      " -3.41455171e-01 -7.06933882e-01  2.02715675e+00 -2.01672586e-01\n",
      "  7.44192531e-01  1.17595165e+00 -3.59377603e-01 -1.05771730e+00\n",
      "  1.08774669e+00  8.27814147e-01 -9.78932439e-01  2.82084912e-01\n",
      " -7.21229801e-01 -1.20638850e+00 -6.92438151e-01 -2.08320706e-01\n",
      " -1.70641875e-01  2.36453958e-02 -3.50411806e-01  2.72373588e-01\n",
      "  1.23121386e-01 -7.80626165e-01 -3.74514776e-01  2.94736218e-02\n",
      " -6.67133977e-01  4.68402367e-01  3.10334362e-01  3.68187184e-01\n",
      " -8.75653145e-01 -5.85492313e-01 -9.13494895e-01  3.91599784e-01\n",
      " -1.47969110e+00  8.02773711e-02  5.76418614e-01  1.38756556e+00\n",
      " -7.27097483e-01  3.65287695e-01  9.01012440e-01 -7.67419896e-01\n",
      " -4.73202208e-01  9.29192133e-02  1.17539102e+00  7.19143656e-01\n",
      " -1.49112095e+00  7.94730869e-01 -3.05940942e-01  7.08835414e-01\n",
      " -4.78371082e-01 -8.92524642e-01  4.16999973e-01 -6.90987996e-01\n",
      "  2.93222623e-01 -7.67874726e-01  3.79626467e-01  1.69506120e+00\n",
      " -8.58233791e-01 -1.36214004e+00  8.66314563e-01 -9.31527956e-02]\n"
     ]
    },
    {
     "data": {
      "text/plain": [
       "Text(0, 0.5, 'Frequency')"
      ]
     },
     "execution_count": 14,
     "metadata": {},
     "output_type": "execute_result"
    },
    {
     "data": {
      "image/png": "[encoded data removed]",
      "text/plain": [
       "<Figure size 640x480 with 1 Axes>"
      ]
     },
     "metadata": {},
     "output_type": "display_data"
    }
   ],
   "source": [
    "# Write the code for your histogram\n",
    "\n",
    "randomvar_x = np.random.normal(loc=0, scale=1, size=1000)\n",
    "print(randomvar_x)\n",
    "\n",
    "plt.hist(x = randomvar_x)\n",
    "plt.xlabel(\"Variable a\")\n",
    "plt.ylabel(\"Frequency\")\n"
   ]
  },
  {
   "attachments": {},
   "cell_type": "markdown",
   "metadata": {},
   "source": [
    "# <span style=\"color:darkblue\"> Additional Resources </span>\n",
    "\n",
    "<font size=\"5\"> \n",
    "\n",
    "Check out additional examples at:\n",
    "\n",
    "- https://allendowney.github.io/ElementsOfDataScience/03_arrays.html\n",
    "\n",
    "\n"
   ]
  },
  {
   "attachments": {},
   "cell_type": "markdown",
   "metadata": {},
   "source": [
    "# <span style=\"color:darkblue\"> (Optional) Matrix Operations </span>\n",
    "\n",
    "<font size=\"5\"> \n"
   ]
  },
  {
   "attachments": {},
   "cell_type": "markdown",
   "metadata": {},
   "source": [
    "<font size = \"5\">\n",
    "Creating a matrix by stacking different rows\n",
    "\n",
    "$ \\text{ }$\n",
    "\n",
    "$ X = \\begin{pmatrix} 1 & 2 & 3 \\\\ \n",
    "                       0 & 4 & 5 \\\\\n",
    "                       0 & 0 & 6\n",
    "                       \\end{pmatrix} $"
   ]
  },
  {
   "cell_type": "code",
   "execution_count": null,
   "metadata": {},
   "outputs": [
    {
     "name": "stdout",
     "output_type": "stream",
     "text": [
      "[[1 2 3]\n",
      " [0 4 5]\n",
      " [0 0 6]]\n"
     ]
    }
   ],
   "source": [
    "# Matrices are usually denoted by capital letters\n",
    "# The object [[1,2,3],[4,5,6],[7,8,9]] is a list of lists\n",
    "# It's useful to maintain this notation in the code as well\n",
    "\n",
    "X = np.array([[1,2,3],[0,4,5],[0,0,6]])\n",
    "print(X)"
   ]
  },
  {
   "attachments": {},
   "cell_type": "markdown",
   "metadata": {},
   "source": [
    "<font size = \"5\">\n",
    "Creating a matrix by stacking different columns\n",
    "\n",
    "$ \\text{ } $\n",
    "\n",
    "$ Y = \\begin{pmatrix} 1 & 2 \\\\ 0 & 1 \\\\ 1 & 0 \\end{pmatrix}$"
   ]
  },
  {
   "cell_type": "code",
   "execution_count": null,
   "metadata": {},
   "outputs": [
    {
     "name": "stdout",
     "output_type": "stream",
     "text": [
      "[[1 2]\n",
      " [0 1]\n",
      " [1 0]]\n"
     ]
    }
   ],
   "source": [
    "# You can also stack columns\n",
    "Y =  np.column_stack([[1,0,1],[2,1,0]])\n",
    "print(Y)"
   ]
  },
  {
   "attachments": {},
   "cell_type": "markdown",
   "metadata": {},
   "source": [
    "<font size = \"5\">\n",
    "Transpose\n",
    "\n",
    "$ \\text{ }$\n",
    "\n",
    "$ Y' = \\begin{pmatrix}  1 & 0 & 1 \\\\ 2 & 1 & 0  \\end{pmatrix} $"
   ]
  },
  {
   "cell_type": "code",
   "execution_count": null,
   "metadata": {},
   "outputs": [
    {
     "data": {
      "text/plain": [
       "array([[1, 0, 1],\n",
       "       [2, 1, 0]])"
      ]
     },
     "execution_count": 15,
     "metadata": {},
     "output_type": "execute_result"
    }
   ],
   "source": [
    "# Matrix Transpose\n",
    "np.matrix.transpose(Y)"
   ]
  },
  {
   "attachments": {},
   "cell_type": "markdown",
   "metadata": {},
   "source": [
    "<font size = \"5\">\n",
    "\n",
    "Matrix multiplication\n",
    "\n",
    "$ XY = \\begin{pmatrix} 1 & 2 & 3 \\\\ \n",
    "                       0 & 4 & 5 \\\\\n",
    "                       0 & 0 & 6\n",
    "                       \\end{pmatrix}\n",
    "                       \\begin{pmatrix} 1 & 2 \\\\ 0 & 1 \\\\ 1 & 0 \\end{pmatrix} = \n",
    "        \\begin{pmatrix} 4 & 4 \\\\ 5 & 4 \\\\ 6 & 0 \\end{pmatrix} $"
   ]
  },
  {
   "cell_type": "code",
   "execution_count": null,
   "metadata": {},
   "outputs": [
    {
     "data": {
      "text/plain": [
       "array([[4, 4],\n",
       "       [5, 4],\n",
       "       [6, 0]])"
      ]
     },
     "execution_count": 34,
     "metadata": {},
     "output_type": "execute_result"
    }
   ],
   "source": [
    "# Matrix Multiplication\n",
    "\n",
    "np.dot(X,Y)\n",
    "\n",
    "np.matmul(X,Y)"
   ]
  },
  {
   "attachments": {},
   "cell_type": "markdown",
   "metadata": {},
   "source": [
    "<font size = \"5\">\n",
    "\n",
    "Matrix inverse\n",
    "\n",
    "$ X^{-1} = \\begin{pmatrix} 1 & 2 & 3 \\\\ \n",
    "                       0 & 4 & 5 \\\\\n",
    "                       0 & 0 & 6\n",
    "                       \\end{pmatrix}^{-1} $"
   ]
  },
  {
   "cell_type": "code",
   "execution_count": null,
   "metadata": {},
   "outputs": [
    {
     "name": "stdout",
     "output_type": "stream",
     "text": [
      "23.999999999999993\n",
      "[[ 1.         -0.5        -0.08333333]\n",
      " [ 0.          0.25       -0.20833333]\n",
      " [ 0.          0.          0.16666667]]\n",
      "[[ 1.00000000e+00  0.00000000e+00 -2.22044605e-16]\n",
      " [ 0.00000000e+00  1.00000000e+00  0.00000000e+00]\n",
      " [ 0.00000000e+00  0.00000000e+00  1.00000000e+00]]\n"
     ]
    }
   ],
   "source": [
    "# Check the determinant of a matrix (a matrix is invertible if the determinant is not zero)\n",
    "print(np.linalg.det(X))\n",
    "\n",
    "# Matrix inverse\n",
    "# The following command stands for linear algebrar inverse.\n",
    "X_inv = np.linalg.inv(X)\n",
    "\n",
    "# Output the result\n",
    "print(X_inv)\n"
   ]
  },
  {
   "attachments": {},
   "cell_type": "markdown",
   "metadata": {},
   "source": [
    "<font size = \"5\">\n",
    "\n",
    "Try it yourself! Check that this is indeed an inverse:\n",
    "\n",
    "$X X_{inv} = \\begin{pmatrix} 1 & 0 & 0 \\\\ 0 & 1 & 0 \\\\ 0 & 0 & 1 \\end{pmatrix}$"
   ]
  },
  {
   "cell_type": "code",
   "execution_count": null,
   "metadata": {},
   "outputs": [
    {
     "name": "stdout",
     "output_type": "stream",
     "text": [
      "[[ 1.00000000e+00  0.00000000e+00 -2.22044605e-16]\n",
      " [ 0.00000000e+00  1.00000000e+00  0.00000000e+00]\n",
      " [ 0.00000000e+00  0.00000000e+00  1.00000000e+00]]\n"
     ]
    }
   ],
   "source": [
    "# Multiply \"X\" times \"X_inv\" using the command shown above\n",
    "# Note: Sometimes the result is shown in scientific notation.\n",
    "\n",
    "\n",
    "\n"
   ]
  }
 ],
 "metadata": {
  "kernelspec": {
   "display_name": "base",
   "language": "python",
   "name": "python3"
  },
  "language_info": {
   "codemirror_mode": {
    "name": "ipython",
    "version": 3
   },
   "file_extension": ".py",
   "mimetype": "text/x-python",
   "name": "python",
   "nbconvert_exporter": "python",
   "pygments_lexer": "ipython3",
   "version": "3.13.5"
  },
  "orig_nbformat": 4,
  "vscode": {
   "interpreter": {
    "hash": "45fc1f684f6f416f40889115beff3ddf69879b64cf4bfee48cb72a61e9d15d1a"
   }
  }
 },
 "nbformat": 4,
 "nbformat_minor": 2
}
