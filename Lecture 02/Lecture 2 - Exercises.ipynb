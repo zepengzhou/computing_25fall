{
 "cells": [
  {
   "attachments": {},
   "cell_type": "markdown",
   "metadata": {},
   "source": [
    "# Lecture 2 Exercises"
   ]
  },
  {
   "cell_type": "markdown",
   "metadata": {},
   "source": [
    "\n",
    "\n",
    "## Short Questions\n",
    "\n",
    "<font size = \"5\">\n",
    "\n",
    "1. How do you check whether an element is part of a list?\n",
    "2. How do you reference a global variable in ```.query()```?\n"
   ]
  },
  {
   "cell_type": "code",
   "execution_count": null,
   "metadata": {},
   "outputs": [],
   "source": [
    "# Write your answers here as comments:\n",
    "\n",
    "## 1. I use the \"print( in )\" command\n",
    "## 2. I use the @ symbol"
   ]
  },
  {
   "cell_type": "markdown",
   "metadata": {},
   "source": [
    "\n",
    "\n",
    "## Long Questions"
   ]
  },
  {
   "attachments": {},
   "cell_type": "markdown",
   "metadata": {},
   "source": [
    "<font size = \"5\">\n",
    "\n",
    "Import the pandas and matplotlib packages"
   ]
  },
  {
   "cell_type": "code",
   "execution_count": 11,
   "metadata": {},
   "outputs": [],
   "source": [
    "# Write your own code\n",
    "\n",
    "import pandas as pd\n",
    "import matplotlib.pyplot as plt\n",
    "import numpy as np\n",
    "\n"
   ]
  },
  {
   "cell_type": "markdown",
   "metadata": {},
   "source": [
    "<font size = \"5\">\n",
    "\n",
    "(a) Checking a string condition\n",
    "\n",
    "<font size = \"3\">\n",
    "\n",
    "- Define a variable \"fruit\" with the value \"apple\"\n",
    "- Define a list\n",
    "\n",
    "list_fruits = [\"banana\",\"orange\",\"apple\"]\n",
    "- Write an expression to test whether \"fruit\" is contained in \"list_fruits\"\n",
    "\n",
    "Hint: Use the \"in\" command. The final output should be True/False.\n",
    "\n",
    "To get full points run all of the above commands\n"
   ]
  },
  {
   "cell_type": "code",
   "execution_count": 2,
   "metadata": {},
   "outputs": [
    {
     "name": "stdout",
     "output_type": "stream",
     "text": [
      "True\n"
     ]
    }
   ],
   "source": [
    "# Write your own code\n",
    "\n",
    "fruit = \"apple\"\n",
    "\n",
    "list_fruits = [\"banana\",\"orange\",\"apple\"]\n",
    "\n",
    "print (fruit in list_fruits)\n",
    "\n",
    "\n"
   ]
  },
  {
   "cell_type": "markdown",
   "metadata": {},
   "source": [
    "<font size = \"5\">\n",
    "\n",
    "(b) Classifying a variable\n",
    "\n",
    "<font size = \"3\">\n",
    "\n",
    "- Define a new variable \"year\" an assign the value \"2008\"\n",
    "- Write an if/else statement that does the following\n",
    "    - print(\"Year 2000 or earlier\") if the year is less than or equal to  2000.\n",
    "    - print(\"Between 2001 and 2005\") if the year is between 2001 and 2005.\n",
    "    - print(\"Year 2006 or later\") if the year is after 2005.\n",
    "\n",
    "To get full points you must do all of the above instructions\n"
   ]
  },
  {
   "cell_type": "code",
   "execution_count": 4,
   "metadata": {},
   "outputs": [
    {
     "name": "stdout",
     "output_type": "stream",
     "text": [
      "Year 2006 or later\n"
     ]
    }
   ],
   "source": [
    "# Write your own code\n",
    "\n",
    "\n",
    "year = 2008\n",
    "\n",
    "any_questions = \"yes\"\n",
    "\n",
    "if year <= 2000:\n",
    "    print(\"Year 2000 or earlier\")\n",
    "elif (year > 2000) & (year <= 2005):\n",
    "    print(\"Between 2001 and 2005\")\n",
    "elif year > 2005:\n",
    "    print(\"Year 2006 or later\")\n"
   ]
  },
  {
   "cell_type": "markdown",
   "metadata": {},
   "source": [
    "<font size = \"5\">\n",
    "\n",
    "(c) Split a dataset into subsets\n",
    "\n",
    "<font size = \"3\">\n",
    "\n",
    "- Import the \"features.csv\" file as a pandas dataframe called \"data\"\n",
    "- Create ``` list_status = [0,1]```\n",
    "- Create ``` list_prob = [0.5, 0.5]```\n",
    "- Create a new variable $n = 1000$ with the number of rows of the dataset\n",
    "- Use \n",
    "```python\n",
    "    np.random.choice(list_status,\n",
    "                     size = n,\n",
    "                     p = list_prob)\n",
    "```\n",
    "$\\qquad$ to create a new column called \"status\" <br>\n",
    "$\\qquad$ which randomly assigns each row to \"0\" or \"1\" <br>\n",
    "$\\qquad$ with equal probability\n",
    "- Use .query() to subset all observations with status == 0.<br>\n",
    "store it in a new dataset called \"data0\"\n",
    "- Use .query() to subset all observations with status == 1.<br>\n",
    "store it in a new dataset called \"data1\"\n",
    "\n"
   ]
  },
  {
   "cell_type": "code",
   "execution_count": 12,
   "metadata": {},
   "outputs": [],
   "source": [
    "# Write your own code\n",
    "\n",
    "list_status = [0,1]\n",
    "list_prob = [0.5,0.5]\n",
    "n = 1000\n",
    "\n",
    "status = np.random.choice(list_status, \n",
    "                          size=n, \n",
    "                          p=list_prob)\n",
    "\n",
    "status_new = pd.DataFrame({\"status\": status})\n",
    "\n",
    "data0 = status_new.query(\"status == 0\")\n",
    "data1 = status_new.query(\"status == 1\")\n"
   ]
  },
  {
   "cell_type": "markdown",
   "metadata": {},
   "source": [
    "<font size = \"5\">\n",
    "\n",
    "For questions (d) through (f) mport the dataset <br>\n",
    " \"data_raw/fifa23_players_basic.csv\"\n",
    "\n",
    "<font size = \"3\">\n",
    "\n",
    "- It's a dataset on professional soccer players\n",
    "- Rows correspond to players (18,539)\n",
    "- Columns contain attributes of players (32)\n",
    "- Try to view the dataset before starting"
   ]
  },
  {
   "cell_type": "code",
   "execution_count": 13,
   "metadata": {},
   "outputs": [],
   "source": [
    "# Write your own code\n",
    "\n",
    "data_prof_soccer = pd.read_csv(\"data_raw/fifa23_players_basic.csv\")\n"
   ]
  },
  {
   "cell_type": "markdown",
   "metadata": {},
   "source": [
    "<font size = \"5\">\n",
    "\n",
    "(d) Create a new dataset subsetting the <br>\n",
    "players whose age is less than 20"
   ]
  },
  {
   "cell_type": "code",
   "execution_count": 14,
   "metadata": {},
   "outputs": [],
   "source": [
    "# Write your own code\n",
    "\n",
    "data_below20 = data_prof_soccer.query(\"Age < 20\")\n",
    "\n",
    "\n"
   ]
  },
  {
   "cell_type": "markdown",
   "metadata": {},
   "source": [
    "<font size = \"5\">\n",
    "\n",
    "(e) Use queries + global variables\n",
    "\n",
    "<font size = \"3\">\n",
    "\n",
    "- Compute the mean of the column \"Value(in Euro)\" <br>\n",
    "and store it as a variable\n",
    "- Subset the players whose value is above the mean value <br>\n",
    "  using \".query()\"\n",
    "\n",
    "\n",
    "HINT: Remember that there is a special syntax for <br>\n",
    "when the column names have spaces (see Lecture 10) <br>\n",
    "Reference the column as ``` `Value(in Euro)`    ``` inside .query()"
   ]
  },
  {
   "cell_type": "code",
   "execution_count": null,
   "metadata": {},
   "outputs": [],
   "source": [
    "# Write your own code\n",
    "\n",
    "Value_mean = data_prof_soccer[\"Value(in Euro)\"].mean()\n",
    "\n",
    "data_value_abovemean = data_prof_soccer.query(\"`Value(in Euro)` > @Value_mean\")\n",
    "\n"
   ]
  },
  {
   "cell_type": "markdown",
   "metadata": {},
   "source": [
    "<font size = \"5\">\n",
    "\n",
    "(f) Use sorting + \".iloc[]\"\n",
    "\n",
    "<font size = \"3\">\n",
    "\n",
    "- Use \".sort_values()\" to order the \"Age\" column <br>\n",
    "from youngest to oldest\n",
    "- Get a subset with the 5 youngest players"
   ]
  },
  {
   "cell_type": "code",
   "execution_count": null,
   "metadata": {},
   "outputs": [
    {
     "data": {
      "application/vnd.microsoft.datawrangler.viewer.v0+json": {
       "columns": [
        {
         "name": "index",
         "rawType": "int64",
         "type": "integer"
        },
        {
         "name": "Known As",
         "rawType": "object",
         "type": "string"
        },
        {
         "name": "Full Name",
         "rawType": "object",
         "type": "string"
        },
        {
         "name": "Overall",
         "rawType": "int64",
         "type": "integer"
        },
        {
         "name": "Potential",
         "rawType": "int64",
         "type": "integer"
        },
        {
         "name": "Value(in Euro)",
         "rawType": "int64",
         "type": "integer"
        },
        {
         "name": "Positions Played",
         "rawType": "object",
         "type": "string"
        },
        {
         "name": "Best Position",
         "rawType": "object",
         "type": "string"
        },
        {
         "name": "Nationality",
         "rawType": "object",
         "type": "string"
        },
        {
         "name": "Image Link",
         "rawType": "object",
         "type": "string"
        },
        {
         "name": "Age",
         "rawType": "int64",
         "type": "integer"
        },
        {
         "name": "Height(in cm)",
         "rawType": "int64",
         "type": "integer"
        },
        {
         "name": "Weight(in kg)",
         "rawType": "int64",
         "type": "integer"
        },
        {
         "name": "TotalStats",
         "rawType": "int64",
         "type": "integer"
        },
        {
         "name": "BaseStats",
         "rawType": "int64",
         "type": "integer"
        },
        {
         "name": "Club Name",
         "rawType": "object",
         "type": "string"
        },
        {
         "name": "Wage(in Euro)",
         "rawType": "int64",
         "type": "integer"
        },
        {
         "name": "Release Clause",
         "rawType": "int64",
         "type": "integer"
        },
        {
         "name": "Club Position",
         "rawType": "object",
         "type": "string"
        },
        {
         "name": "Contract Until",
         "rawType": "object",
         "type": "string"
        },
        {
         "name": "Club Jersey Number",
         "rawType": "object",
         "type": "string"
        },
        {
         "name": "Joined On",
         "rawType": "int64",
         "type": "integer"
        },
        {
         "name": "On Loan",
         "rawType": "object",
         "type": "string"
        },
        {
         "name": "Preferred Foot",
         "rawType": "object",
         "type": "string"
        },
        {
         "name": "Weak Foot Rating",
         "rawType": "int64",
         "type": "integer"
        },
        {
         "name": "Skill Moves",
         "rawType": "int64",
         "type": "integer"
        },
        {
         "name": "International Reputation",
         "rawType": "int64",
         "type": "integer"
        },
        {
         "name": "National Team Name",
         "rawType": "object",
         "type": "string"
        },
        {
         "name": "National Team Image Link",
         "rawType": "object",
         "type": "string"
        },
        {
         "name": "National Team Position",
         "rawType": "object",
         "type": "string"
        },
        {
         "name": "National Team Jersey Number",
         "rawType": "object",
         "type": "string"
        },
        {
         "name": "Attacking Work Rate",
         "rawType": "object",
         "type": "string"
        },
        {
         "name": "Defensive Work Rate",
         "rawType": "object",
         "type": "string"
        }
       ],
       "ref": "408e1817-7209-4bd9-b581-797e45f73fef",
       "rows": [
        [
         "17956",
         "A. Dithmer",
         "Andreas Dithmer",
         "53",
         "76",
         "275000",
         "GK",
         "GK",
         "Denmark",
         "https://cdn.sofifa.net/players/269/573/23_60.png",
         "16",
         "198",
         "82",
         "956",
         "306",
         "F.C. København",
         "500",
         "633000",
         "RES",
         "2025",
         "41",
         "2022",
         "-",
         "Right",
         "2",
         "1",
         "1",
         "-",
         "https://cdn.sofifa.net/flags/dk.png",
         "-",
         "-",
         "Medium",
         "Medium"
        ],
        [
         "18014",
         "J. Ardila",
         "José Ardila",
         "53",
         "73",
         "250000",
         "CM",
         "CAM",
         "Venezuela",
         "https://cdn.sofifa.net/players/268/892/23_60.png",
         "16",
         "178",
         "70",
         "1469",
         "312",
         "Estudiantes de Mérida",
         "500",
         "788000",
         "SUB",
         "2024",
         "36",
         "2022",
         "-",
         "Right",
         "3",
         "2",
         "1",
         "-",
         "https://cdn.sofifa.net/flags/ve.png",
         "-",
         "-",
         "Medium",
         "Medium"
        ],
        [
         "16084",
         "S. Ngoma",
         "Serge Ngoma",
         "58",
         "82",
         "650000",
         "RW",
         "RM",
         "United States",
         "https://cdn.sofifa.net/players/267/796/23_60.png",
         "16",
         "178",
         "75",
         "1495",
         "340",
         "New York Red Bulls",
         "500",
         "1600000",
         "SUB",
         "2025",
         "22",
         "2022",
         "-",
         "Right",
         "3",
         "2",
         "1",
         "-",
         "https://cdn.sofifa.net/flags/us.png",
         "-",
         "-",
         "High",
         "Medium"
        ],
        [
         "11481",
         "O. Vargas",
         "Obed Vargas",
         "64",
         "81",
         "1500000",
         "CM,CDM,RM",
         "CAM",
         "United States",
         "https://cdn.sofifa.net/players/263/701/23_60.png",
         "16",
         "175",
         "68",
         "1660",
         "353",
         "Seattle Sounders FC",
         "500",
         "3200000",
         "RES",
         "2026",
         "73",
         "2021",
         "-",
         "Right",
         "3",
         "3",
         "1",
         "-",
         "https://cdn.sofifa.net/flags/us.png",
         "-",
         "-",
         "High",
         "Medium"
        ],
        [
         "17591",
         "A. Madaliński",
         "Alan Madaliński",
         "54",
         "68",
         "210000",
         "GK",
         "GK",
         "Poland",
         "https://cdn.sofifa.net/players/270/590/23_60.png",
         "16",
         "186",
         "76",
         "838",
         "287",
         "Miedź Legnica",
         "500",
         "415000",
         "RES",
         "2024",
         "12",
         "2021",
         "-",
         "Right",
         "3",
         "1",
         "1",
         "-",
         "https://cdn.sofifa.net/flags/pl.png",
         "-",
         "-",
         "Medium",
         "Medium"
        ]
       ],
       "shape": {
        "columns": 32,
        "rows": 5
       }
      },
      "text/html": [
       "<div>\n",
       "<style scoped>\n",
       "    .dataframe tbody tr th:only-of-type {\n",
       "        vertical-align: middle;\n",
       "    }\n",
       "\n",
       "    .dataframe tbody tr th {\n",
       "        vertical-align: top;\n",
       "    }\n",
       "\n",
       "    .dataframe thead th {\n",
       "        text-align: right;\n",
       "    }\n",
       "</style>\n",
       "<table border=\"1\" class=\"dataframe\">\n",
       "  <thead>\n",
       "    <tr style=\"text-align: right;\">\n",
       "      <th></th>\n",
       "      <th>Known As</th>\n",
       "      <th>Full Name</th>\n",
       "      <th>Overall</th>\n",
       "      <th>Potential</th>\n",
       "      <th>Value(in Euro)</th>\n",
       "      <th>Positions Played</th>\n",
       "      <th>Best Position</th>\n",
       "      <th>Nationality</th>\n",
       "      <th>Image Link</th>\n",
       "      <th>Age</th>\n",
       "      <th>...</th>\n",
       "      <th>Preferred Foot</th>\n",
       "      <th>Weak Foot Rating</th>\n",
       "      <th>Skill Moves</th>\n",
       "      <th>International Reputation</th>\n",
       "      <th>National Team Name</th>\n",
       "      <th>National Team Image Link</th>\n",
       "      <th>National Team Position</th>\n",
       "      <th>National Team Jersey Number</th>\n",
       "      <th>Attacking Work Rate</th>\n",
       "      <th>Defensive Work Rate</th>\n",
       "    </tr>\n",
       "  </thead>\n",
       "  <tbody>\n",
       "    <tr>\n",
       "      <th>17956</th>\n",
       "      <td>A. Dithmer</td>\n",
       "      <td>Andreas Dithmer</td>\n",
       "      <td>53</td>\n",
       "      <td>76</td>\n",
       "      <td>275000</td>\n",
       "      <td>GK</td>\n",
       "      <td>GK</td>\n",
       "      <td>Denmark</td>\n",
       "      <td>https://cdn.sofifa.net/players/269/573/23_60.png</td>\n",
       "      <td>16</td>\n",
       "      <td>...</td>\n",
       "      <td>Right</td>\n",
       "      <td>2</td>\n",
       "      <td>1</td>\n",
       "      <td>1</td>\n",
       "      <td>-</td>\n",
       "      <td>https://cdn.sofifa.net/flags/dk.png</td>\n",
       "      <td>-</td>\n",
       "      <td>-</td>\n",
       "      <td>Medium</td>\n",
       "      <td>Medium</td>\n",
       "    </tr>\n",
       "    <tr>\n",
       "      <th>18014</th>\n",
       "      <td>J. Ardila</td>\n",
       "      <td>José Ardila</td>\n",
       "      <td>53</td>\n",
       "      <td>73</td>\n",
       "      <td>250000</td>\n",
       "      <td>CM</td>\n",
       "      <td>CAM</td>\n",
       "      <td>Venezuela</td>\n",
       "      <td>https://cdn.sofifa.net/players/268/892/23_60.png</td>\n",
       "      <td>16</td>\n",
       "      <td>...</td>\n",
       "      <td>Right</td>\n",
       "      <td>3</td>\n",
       "      <td>2</td>\n",
       "      <td>1</td>\n",
       "      <td>-</td>\n",
       "      <td>https://cdn.sofifa.net/flags/ve.png</td>\n",
       "      <td>-</td>\n",
       "      <td>-</td>\n",
       "      <td>Medium</td>\n",
       "      <td>Medium</td>\n",
       "    </tr>\n",
       "    <tr>\n",
       "      <th>16084</th>\n",
       "      <td>S. Ngoma</td>\n",
       "      <td>Serge Ngoma</td>\n",
       "      <td>58</td>\n",
       "      <td>82</td>\n",
       "      <td>650000</td>\n",
       "      <td>RW</td>\n",
       "      <td>RM</td>\n",
       "      <td>United States</td>\n",
       "      <td>https://cdn.sofifa.net/players/267/796/23_60.png</td>\n",
       "      <td>16</td>\n",
       "      <td>...</td>\n",
       "      <td>Right</td>\n",
       "      <td>3</td>\n",
       "      <td>2</td>\n",
       "      <td>1</td>\n",
       "      <td>-</td>\n",
       "      <td>https://cdn.sofifa.net/flags/us.png</td>\n",
       "      <td>-</td>\n",
       "      <td>-</td>\n",
       "      <td>High</td>\n",
       "      <td>Medium</td>\n",
       "    </tr>\n",
       "    <tr>\n",
       "      <th>11481</th>\n",
       "      <td>O. Vargas</td>\n",
       "      <td>Obed Vargas</td>\n",
       "      <td>64</td>\n",
       "      <td>81</td>\n",
       "      <td>1500000</td>\n",
       "      <td>CM,CDM,RM</td>\n",
       "      <td>CAM</td>\n",
       "      <td>United States</td>\n",
       "      <td>https://cdn.sofifa.net/players/263/701/23_60.png</td>\n",
       "      <td>16</td>\n",
       "      <td>...</td>\n",
       "      <td>Right</td>\n",
       "      <td>3</td>\n",
       "      <td>3</td>\n",
       "      <td>1</td>\n",
       "      <td>-</td>\n",
       "      <td>https://cdn.sofifa.net/flags/us.png</td>\n",
       "      <td>-</td>\n",
       "      <td>-</td>\n",
       "      <td>High</td>\n",
       "      <td>Medium</td>\n",
       "    </tr>\n",
       "    <tr>\n",
       "      <th>17591</th>\n",
       "      <td>A. Madaliński</td>\n",
       "      <td>Alan Madaliński</td>\n",
       "      <td>54</td>\n",
       "      <td>68</td>\n",
       "      <td>210000</td>\n",
       "      <td>GK</td>\n",
       "      <td>GK</td>\n",
       "      <td>Poland</td>\n",
       "      <td>https://cdn.sofifa.net/players/270/590/23_60.png</td>\n",
       "      <td>16</td>\n",
       "      <td>...</td>\n",
       "      <td>Right</td>\n",
       "      <td>3</td>\n",
       "      <td>1</td>\n",
       "      <td>1</td>\n",
       "      <td>-</td>\n",
       "      <td>https://cdn.sofifa.net/flags/pl.png</td>\n",
       "      <td>-</td>\n",
       "      <td>-</td>\n",
       "      <td>Medium</td>\n",
       "      <td>Medium</td>\n",
       "    </tr>\n",
       "  </tbody>\n",
       "</table>\n",
       "<p>5 rows × 32 columns</p>\n",
       "</div>"
      ],
      "text/plain": [
       "            Known As        Full Name  Overall  Potential  Value(in Euro)  \\\n",
       "17956     A. Dithmer  Andreas Dithmer       53         76          275000   \n",
       "18014      J. Ardila      José Ardila       53         73          250000   \n",
       "16084       S. Ngoma      Serge Ngoma       58         82          650000   \n",
       "11481      O. Vargas      Obed Vargas       64         81         1500000   \n",
       "17591  A. Madaliński  Alan Madaliński       54         68          210000   \n",
       "\n",
       "      Positions Played Best Position    Nationality  \\\n",
       "17956               GK            GK        Denmark   \n",
       "18014               CM           CAM      Venezuela   \n",
       "16084               RW            RM  United States   \n",
       "11481        CM,CDM,RM           CAM  United States   \n",
       "17591               GK            GK         Poland   \n",
       "\n",
       "                                             Image Link  Age  ...  \\\n",
       "17956  https://cdn.sofifa.net/players/269/573/23_60.png   16  ...   \n",
       "18014  https://cdn.sofifa.net/players/268/892/23_60.png   16  ...   \n",
       "16084  https://cdn.sofifa.net/players/267/796/23_60.png   16  ...   \n",
       "11481  https://cdn.sofifa.net/players/263/701/23_60.png   16  ...   \n",
       "17591  https://cdn.sofifa.net/players/270/590/23_60.png   16  ...   \n",
       "\n",
       "       Preferred Foot  Weak Foot Rating  Skill Moves  \\\n",
       "17956           Right                 2            1   \n",
       "18014           Right                 3            2   \n",
       "16084           Right                 3            2   \n",
       "11481           Right                 3            3   \n",
       "17591           Right                 3            1   \n",
       "\n",
       "       International Reputation National Team Name  \\\n",
       "17956                         1                  -   \n",
       "18014                         1                  -   \n",
       "16084                         1                  -   \n",
       "11481                         1                  -   \n",
       "17591                         1                  -   \n",
       "\n",
       "                  National Team Image Link  National Team Position  \\\n",
       "17956  https://cdn.sofifa.net/flags/dk.png                       -   \n",
       "18014  https://cdn.sofifa.net/flags/ve.png                       -   \n",
       "16084  https://cdn.sofifa.net/flags/us.png                       -   \n",
       "11481  https://cdn.sofifa.net/flags/us.png                       -   \n",
       "17591  https://cdn.sofifa.net/flags/pl.png                       -   \n",
       "\n",
       "      National Team Jersey Number Attacking Work Rate Defensive Work Rate  \n",
       "17956                           -              Medium              Medium  \n",
       "18014                           -              Medium              Medium  \n",
       "16084                           -                High              Medium  \n",
       "11481                           -                High              Medium  \n",
       "17591                           -              Medium              Medium  \n",
       "\n",
       "[5 rows x 32 columns]"
      ]
     },
     "metadata": {},
     "output_type": "display_data"
    }
   ],
   "source": [
    "# Write your own code\n",
    "\n",
    "age_sort = data_prof_soccer.sort_values(by = \"Age\", ascending = True)\n",
    "\n",
    "youngest_5 = age_sort.iloc[0:5,:]\n",
    "\n",
    "display(youngest_5)\n"
   ]
  },
  {
   "cell_type": "markdown",
   "metadata": {},
   "source": [
    "<font size = \"5\">\n",
    "For questions (h)-(i), read \"data_raw/wdi_2020.csv\" <br>\n",
    "This is a dataset of countries from <br>\n",
    "the World Development Indicators"
   ]
  },
  {
   "cell_type": "markdown",
   "metadata": {},
   "source": [
    "<font size = \"5\">\n",
    "\n",
    "(g) Extract sorted elements from a dataset\n",
    "\n",
    "<font size = \"3\">\n",
    "\n",
    "- Sort by \"prop_urbanpopulation\" in descending order\n",
    "- Subset the 5 countries with the highest urban population"
   ]
  },
  {
   "cell_type": "code",
   "execution_count": 20,
   "metadata": {},
   "outputs": [
    {
     "data": {
      "application/vnd.microsoft.datawrangler.viewer.v0+json": {
       "columns": [
        {
         "name": "index",
         "rawType": "int64",
         "type": "integer"
        },
        {
         "name": "year",
         "rawType": "int64",
         "type": "integer"
        },
        {
         "name": "yearcode",
         "rawType": "object",
         "type": "string"
        },
        {
         "name": "countryname",
         "rawType": "object",
         "type": "string"
        },
        {
         "name": "countrycode",
         "rawType": "object",
         "type": "string"
        },
        {
         "name": "prop_urbanpopulation",
         "rawType": "float64",
         "type": "float"
        }
       ],
       "ref": "9fc05d72-b205-4fda-8f64-2b8962310238",
       "rows": [
        [
         "212",
         "2020",
         "YR2020",
         "Singapore",
         "SGP",
         "100.0"
        ],
        [
         "147",
         "2020",
         "YR2020",
         "Macao SAR, China",
         "MAC",
         "100.0"
        ],
        [
         "40",
         "2020",
         "YR2020",
         "Cayman Islands",
         "CYM",
         "100.0"
        ],
        [
         "90",
         "2020",
         "YR2020",
         "Gibraltar",
         "GIB",
         "100.0"
        ],
        [
         "103",
         "2020",
         "YR2020",
         "Hong Kong SAR, China",
         "HKG",
         "100.0"
        ]
       ],
       "shape": {
        "columns": 5,
        "rows": 5
       }
      },
      "text/html": [
       "<div>\n",
       "<style scoped>\n",
       "    .dataframe tbody tr th:only-of-type {\n",
       "        vertical-align: middle;\n",
       "    }\n",
       "\n",
       "    .dataframe tbody tr th {\n",
       "        vertical-align: top;\n",
       "    }\n",
       "\n",
       "    .dataframe thead th {\n",
       "        text-align: right;\n",
       "    }\n",
       "</style>\n",
       "<table border=\"1\" class=\"dataframe\">\n",
       "  <thead>\n",
       "    <tr style=\"text-align: right;\">\n",
       "      <th></th>\n",
       "      <th>year</th>\n",
       "      <th>yearcode</th>\n",
       "      <th>countryname</th>\n",
       "      <th>countrycode</th>\n",
       "      <th>prop_urbanpopulation</th>\n",
       "    </tr>\n",
       "  </thead>\n",
       "  <tbody>\n",
       "    <tr>\n",
       "      <th>212</th>\n",
       "      <td>2020</td>\n",
       "      <td>YR2020</td>\n",
       "      <td>Singapore</td>\n",
       "      <td>SGP</td>\n",
       "      <td>100.0</td>\n",
       "    </tr>\n",
       "    <tr>\n",
       "      <th>147</th>\n",
       "      <td>2020</td>\n",
       "      <td>YR2020</td>\n",
       "      <td>Macao SAR, China</td>\n",
       "      <td>MAC</td>\n",
       "      <td>100.0</td>\n",
       "    </tr>\n",
       "    <tr>\n",
       "      <th>40</th>\n",
       "      <td>2020</td>\n",
       "      <td>YR2020</td>\n",
       "      <td>Cayman Islands</td>\n",
       "      <td>CYM</td>\n",
       "      <td>100.0</td>\n",
       "    </tr>\n",
       "    <tr>\n",
       "      <th>90</th>\n",
       "      <td>2020</td>\n",
       "      <td>YR2020</td>\n",
       "      <td>Gibraltar</td>\n",
       "      <td>GIB</td>\n",
       "      <td>100.0</td>\n",
       "    </tr>\n",
       "    <tr>\n",
       "      <th>103</th>\n",
       "      <td>2020</td>\n",
       "      <td>YR2020</td>\n",
       "      <td>Hong Kong SAR, China</td>\n",
       "      <td>HKG</td>\n",
       "      <td>100.0</td>\n",
       "    </tr>\n",
       "  </tbody>\n",
       "</table>\n",
       "</div>"
      ],
      "text/plain": [
       "     year yearcode           countryname countrycode  prop_urbanpopulation\n",
       "212  2020   YR2020             Singapore         SGP                 100.0\n",
       "147  2020   YR2020      Macao SAR, China         MAC                 100.0\n",
       "40   2020   YR2020        Cayman Islands         CYM                 100.0\n",
       "90   2020   YR2020             Gibraltar         GIB                 100.0\n",
       "103  2020   YR2020  Hong Kong SAR, China         HKG                 100.0"
      ]
     },
     "metadata": {},
     "output_type": "display_data"
    }
   ],
   "source": [
    "# Write your own code\n",
    "\n",
    "\n",
    "countries = pd.read_csv(\"data_raw/wdi_2020.csv\")\n",
    "\n",
    "countries_sorted = countries.sort_values(by = \"prop_urbanpopulation\", ascending = False)\n",
    "\n",
    "urban_top5 = countries_sorted.iloc[0:5,:]\n",
    "\n",
    "display(urban_top5)\n"
   ]
  },
  {
   "cell_type": "markdown",
   "metadata": {},
   "source": [
    "<font size = \"5\">\n",
    "\n",
    "(h) Subset elements with query\n",
    "\n",
    "<font size = \"3\">\n",
    "\n",
    "- Compute the median of \"prop_urbanpopulation\"\n",
    "- Use \".query()\" to subset countries with <br>\n",
    " \"prop_urbanpopulation\" above the median"
   ]
  },
  {
   "cell_type": "code",
   "execution_count": 21,
   "metadata": {},
   "outputs": [
    {
     "data": {
      "application/vnd.microsoft.datawrangler.viewer.v0+json": {
       "columns": [
        {
         "name": "index",
         "rawType": "int64",
         "type": "integer"
        },
        {
         "name": "year",
         "rawType": "int64",
         "type": "integer"
        },
        {
         "name": "yearcode",
         "rawType": "object",
         "type": "string"
        },
        {
         "name": "countryname",
         "rawType": "object",
         "type": "string"
        },
        {
         "name": "countrycode",
         "rawType": "object",
         "type": "string"
        },
        {
         "name": "prop_urbanpopulation",
         "rawType": "float64",
         "type": "float"
        }
       ],
       "ref": "1933347a-d64a-422e-8d9b-f77d8d33eb61",
       "rows": [
        [
         "3",
         "2020",
         "YR2020",
         "Albania",
         "ALB",
         "62.112"
        ],
        [
         "4",
         "2020",
         "YR2020",
         "Algeria",
         "DZA",
         "73.733"
        ],
        [
         "5",
         "2020",
         "YR2020",
         "American Samoa",
         "ASM",
         "87.153"
        ],
        [
         "6",
         "2020",
         "YR2020",
         "Andorra",
         "AND",
         "87.916"
        ],
        [
         "7",
         "2020",
         "YR2020",
         "Angola",
         "AGO",
         "66.825"
        ],
        [
         "10",
         "2020",
         "YR2020",
         "Argentina",
         "ARG",
         "92.111"
        ],
        [
         "11",
         "2020",
         "YR2020",
         "Armenia",
         "ARM",
         "63.313"
        ],
        [
         "13",
         "2020",
         "YR2020",
         "Australia",
         "AUS",
         "86.241"
        ],
        [
         "16",
         "2020",
         "YR2020",
         "Bahamas, The",
         "BHS",
         "83.245"
        ],
        [
         "17",
         "2020",
         "YR2020",
         "Bahrain",
         "BHR",
         "89.506"
        ],
        [
         "20",
         "2020",
         "YR2020",
         "Belarus",
         "BLR",
         "79.483"
        ],
        [
         "21",
         "2020",
         "YR2020",
         "Belgium",
         "BEL",
         "98.079"
        ],
        [
         "24",
         "2020",
         "YR2020",
         "Bermuda",
         "BMU",
         "100.0"
        ],
        [
         "26",
         "2020",
         "YR2020",
         "Bolivia",
         "BOL",
         "70.123"
        ],
        [
         "28",
         "2020",
         "YR2020",
         "Botswana",
         "BWA",
         "70.877"
        ],
        [
         "29",
         "2020",
         "YR2020",
         "Brazil",
         "BRA",
         "87.073"
        ],
        [
         "31",
         "2020",
         "YR2020",
         "Brunei Darussalam",
         "BRN",
         "78.25"
        ],
        [
         "32",
         "2020",
         "YR2020",
         "Bulgaria",
         "BGR",
         "75.686"
        ],
        [
         "35",
         "2020",
         "YR2020",
         "Cabo Verde",
         "CPV",
         "66.652"
        ],
        [
         "38",
         "2020",
         "YR2020",
         "Canada",
         "CAN",
         "81.562"
        ],
        [
         "40",
         "2020",
         "YR2020",
         "Cayman Islands",
         "CYM",
         "100.0"
        ],
        [
         "42",
         "2020",
         "YR2020",
         "Central Europe and the Baltics",
         "CEB",
         "62.56145424"
        ],
        [
         "45",
         "2020",
         "YR2020",
         "Chile",
         "CHL",
         "87.727"
        ],
        [
         "46",
         "2020",
         "YR2020",
         "China",
         "CHN",
         "61.428"
        ],
        [
         "47",
         "2020",
         "YR2020",
         "Colombia",
         "COL",
         "81.425"
        ],
        [
         "50",
         "2020",
         "YR2020",
         "Congo, Rep.",
         "COG",
         "67.829"
        ],
        [
         "51",
         "2020",
         "YR2020",
         "Costa Rica",
         "CRI",
         "80.771"
        ],
        [
         "54",
         "2020",
         "YR2020",
         "Cuba",
         "CUB",
         "77.194"
        ],
        [
         "55",
         "2020",
         "YR2020",
         "Curacao",
         "CUW",
         "89.062"
        ],
        [
         "56",
         "2020",
         "YR2020",
         "Cyprus",
         "CYP",
         "66.821"
        ],
        [
         "57",
         "2020",
         "YR2020",
         "Czechia",
         "CZE",
         "74.061"
        ],
        [
         "58",
         "2020",
         "YR2020",
         "Denmark",
         "DNK",
         "88.116"
        ],
        [
         "59",
         "2020",
         "YR2020",
         "Djibouti",
         "DJI",
         "78.062"
        ],
        [
         "60",
         "2020",
         "YR2020",
         "Dominica",
         "DMA",
         "71.09"
        ],
        [
         "61",
         "2020",
         "YR2020",
         "Dominican Republic",
         "DOM",
         "82.54"
        ],
        [
         "66",
         "2020",
         "YR2020",
         "Ecuador",
         "ECU",
         "64.166"
        ],
        [
         "68",
         "2020",
         "YR2020",
         "El Salvador",
         "SLV",
         "73.444"
        ],
        [
         "69",
         "2020",
         "YR2020",
         "Equatorial Guinea",
         "GNQ",
         "73.1"
        ],
        [
         "71",
         "2020",
         "YR2020",
         "Estonia",
         "EST",
         "69.229"
        ],
        [
         "74",
         "2020",
         "YR2020",
         "Euro area",
         "EMU",
         "77.46390555"
        ],
        [
         "75",
         "2020",
         "YR2020",
         "Europe & Central Asia",
         "ECS",
         "72.60995045"
        ],
        [
         "76",
         "2020",
         "YR2020",
         "Europe & Central Asia (excluding high income)",
         "ECA",
         "67.98832188"
        ],
        [
         "77",
         "2020",
         "YR2020",
         "Europe & Central Asia (IDA & IBRD countries)",
         "TEC",
         "66.66484145"
        ],
        [
         "78",
         "2020",
         "YR2020",
         "European Union",
         "EUU",
         "74.96054007"
        ],
        [
         "81",
         "2020",
         "YR2020",
         "Finland",
         "FIN",
         "85.517"
        ],
        [
         "83",
         "2020",
         "YR2020",
         "France",
         "FRA",
         "80.975"
        ],
        [
         "84",
         "2020",
         "YR2020",
         "French Polynesia",
         "PYF",
         "61.975"
        ],
        [
         "85",
         "2020",
         "YR2020",
         "Gabon",
         "GAB",
         "90.092"
        ],
        [
         "86",
         "2020",
         "YR2020",
         "Gambia, The",
         "GMB",
         "62.582"
        ],
        [
         "88",
         "2020",
         "YR2020",
         "Germany",
         "DEU",
         "77.453"
        ]
       ],
       "shape": {
        "columns": 5,
        "rows": 131
       }
      },
      "text/html": [
       "<div>\n",
       "<style scoped>\n",
       "    .dataframe tbody tr th:only-of-type {\n",
       "        vertical-align: middle;\n",
       "    }\n",
       "\n",
       "    .dataframe tbody tr th {\n",
       "        vertical-align: top;\n",
       "    }\n",
       "\n",
       "    .dataframe thead th {\n",
       "        text-align: right;\n",
       "    }\n",
       "</style>\n",
       "<table border=\"1\" class=\"dataframe\">\n",
       "  <thead>\n",
       "    <tr style=\"text-align: right;\">\n",
       "      <th></th>\n",
       "      <th>year</th>\n",
       "      <th>yearcode</th>\n",
       "      <th>countryname</th>\n",
       "      <th>countrycode</th>\n",
       "      <th>prop_urbanpopulation</th>\n",
       "    </tr>\n",
       "  </thead>\n",
       "  <tbody>\n",
       "    <tr>\n",
       "      <th>3</th>\n",
       "      <td>2020</td>\n",
       "      <td>YR2020</td>\n",
       "      <td>Albania</td>\n",
       "      <td>ALB</td>\n",
       "      <td>62.112000</td>\n",
       "    </tr>\n",
       "    <tr>\n",
       "      <th>4</th>\n",
       "      <td>2020</td>\n",
       "      <td>YR2020</td>\n",
       "      <td>Algeria</td>\n",
       "      <td>DZA</td>\n",
       "      <td>73.733000</td>\n",
       "    </tr>\n",
       "    <tr>\n",
       "      <th>5</th>\n",
       "      <td>2020</td>\n",
       "      <td>YR2020</td>\n",
       "      <td>American Samoa</td>\n",
       "      <td>ASM</td>\n",
       "      <td>87.153000</td>\n",
       "    </tr>\n",
       "    <tr>\n",
       "      <th>6</th>\n",
       "      <td>2020</td>\n",
       "      <td>YR2020</td>\n",
       "      <td>Andorra</td>\n",
       "      <td>AND</td>\n",
       "      <td>87.916000</td>\n",
       "    </tr>\n",
       "    <tr>\n",
       "      <th>7</th>\n",
       "      <td>2020</td>\n",
       "      <td>YR2020</td>\n",
       "      <td>Angola</td>\n",
       "      <td>AGO</td>\n",
       "      <td>66.825000</td>\n",
       "    </tr>\n",
       "    <tr>\n",
       "      <th>...</th>\n",
       "      <td>...</td>\n",
       "      <td>...</td>\n",
       "      <td>...</td>\n",
       "      <td>...</td>\n",
       "      <td>...</td>\n",
       "    </tr>\n",
       "    <tr>\n",
       "      <th>254</th>\n",
       "      <td>2020</td>\n",
       "      <td>YR2020</td>\n",
       "      <td>Upper middle income</td>\n",
       "      <td>UMC</td>\n",
       "      <td>67.601442</td>\n",
       "    </tr>\n",
       "    <tr>\n",
       "      <th>255</th>\n",
       "      <td>2020</td>\n",
       "      <td>YR2020</td>\n",
       "      <td>Uruguay</td>\n",
       "      <td>URY</td>\n",
       "      <td>95.515000</td>\n",
       "    </tr>\n",
       "    <tr>\n",
       "      <th>258</th>\n",
       "      <td>2020</td>\n",
       "      <td>YR2020</td>\n",
       "      <td>Venezuela, RB</td>\n",
       "      <td>VEN</td>\n",
       "      <td>88.279000</td>\n",
       "    </tr>\n",
       "    <tr>\n",
       "      <th>260</th>\n",
       "      <td>2020</td>\n",
       "      <td>YR2020</td>\n",
       "      <td>Virgin Islands (U.S.)</td>\n",
       "      <td>VIR</td>\n",
       "      <td>95.939000</td>\n",
       "    </tr>\n",
       "    <tr>\n",
       "      <th>261</th>\n",
       "      <td>2020</td>\n",
       "      <td>YR2020</td>\n",
       "      <td>West Bank and Gaza</td>\n",
       "      <td>PSE</td>\n",
       "      <td>76.719000</td>\n",
       "    </tr>\n",
       "  </tbody>\n",
       "</table>\n",
       "<p>131 rows × 5 columns</p>\n",
       "</div>"
      ],
      "text/plain": [
       "     year yearcode            countryname countrycode  prop_urbanpopulation\n",
       "3    2020   YR2020                Albania         ALB             62.112000\n",
       "4    2020   YR2020                Algeria         DZA             73.733000\n",
       "5    2020   YR2020         American Samoa         ASM             87.153000\n",
       "6    2020   YR2020                Andorra         AND             87.916000\n",
       "7    2020   YR2020                 Angola         AGO             66.825000\n",
       "..    ...      ...                    ...         ...                   ...\n",
       "254  2020   YR2020    Upper middle income         UMC             67.601442\n",
       "255  2020   YR2020                Uruguay         URY             95.515000\n",
       "258  2020   YR2020          Venezuela, RB         VEN             88.279000\n",
       "260  2020   YR2020  Virgin Islands (U.S.)         VIR             95.939000\n",
       "261  2020   YR2020     West Bank and Gaza         PSE             76.719000\n",
       "\n",
       "[131 rows x 5 columns]"
      ]
     },
     "metadata": {},
     "output_type": "display_data"
    }
   ],
   "source": [
    "# Write your own code\n",
    "\n",
    "urban_median = countries[\"prop_urbanpopulation\"].median()\n",
    "\n",
    "urban_abovemedian = countries.query(\"prop_urbanpopulation > @urban_median\")\n",
    "\n",
    "display(urban_abovemedian)\n"
   ]
  },
  {
   "cell_type": "markdown",
   "metadata": {},
   "source": [
    "<font size = \"5\">\n",
    "\n",
    "(i) Plot by category\n",
    "\n",
    "<font size = \"3\">\n",
    "\n",
    "- Read \"data_raw/wdi_urban.csv\"<br>\n",
    "This contains data from 1980 and 2020\n",
    "\n",
    "- Create a list with the unique values of \"year\"\n",
    "- Create a plot with a ...\n",
    "    - Histogram of \"prop_urbanpopulation\" <br>\n",
    "    for each year\n",
    "    - Set the histogram option ``` alpha = 0.5 ``` for transparency\n",
    "    - All the histograms should be overlapping\n",
    "    - Create a legend with the list of years\n",
    "    - Label the axes and the title\n",
    "\n",
    "What do we learn from the graph?\n",
    "\n",
    "HINT: See the example at the end of Lecture 10\n"
   ]
  },
  {
   "cell_type": "code",
   "execution_count": 29,
   "metadata": {},
   "outputs": [
    {
     "data": {
      "image/png": "[encoded data removed]",
      "text/plain": [
       "<Figure size 640x480 with 1 Axes>"
      ]
     },
     "metadata": {},
     "output_type": "display_data"
    }
   ],
   "source": [
    "# Write your own code\n",
    "\n",
    "data_wdi_urban = pd.read_csv(\"data_raw/wdi_urban.csv\")\n",
    "\n",
    "list_unique_years = pd.unique(data_wdi_urban[\"year\"])\n",
    "\n",
    "for years in list_unique_years:\n",
    "    df   = data_wdi_urban.query(\"year == @years\")\n",
    "    plt.hist(x = df[\"prop_urbanpopulation\"],alpha = 0.5)\n",
    "\n",
    "plt.xlabel(\"Proportion of Urban Population\")\n",
    "plt.ylabel(\"Frequency\")\n",
    "plt.legend(labels = list_unique_years,\n",
    "           title  = \"Histogram of Urban Population Proportion by Year\")\n",
    "plt.show()\n",
    "\n",
    "# What do we learn?\n",
    "## In 1980, many countries were still at a low level of urbanization, \n",
    "## but by 2020 most had become highly urbanized. \n",
    "## The rightward shift of the distribution indicates that urbanization is a long-term global trend.\n"
   ]
  },
  {
   "cell_type": "markdown",
   "metadata": {},
   "source": [
    "# Review of last lecture\n"
   ]
  },
  {
   "cell_type": "markdown",
   "metadata": {},
   "source": [
    "<font size = \"5\">\n",
    "\n",
    "(k) Composite operations on arrays\n",
    "\n",
    "<font size = \"3\">\n",
    "\n",
    "- Define $r = 0.04$\n",
    "- Define two arrays $A$ and $T$ using \"np.array()\", assigning the following values\n",
    "\n",
    "$ a = \\begin{pmatrix} a_0 \\\\ a_1 \\\\ a_2 \\end{pmatrix} =  \\begin{pmatrix} 20 \\\\ 30 \\\\ 15 \\end{pmatrix},\n",
    "\\qquad  t = \\begin{pmatrix} t_0 \\\\ t_1 \\\\ t_2 \\end{pmatrix} = \\begin{pmatrix} 0 \\\\ 1 \\\\ 2 \\end{pmatrix} $\n",
    "\n",
    "- Use element-by-element vector operations to compute a new array $M$ of length 3:\n",
    "\n",
    "$ M = \\begin{pmatrix} a_1 / (1+r)^{t_0}  \\\\ a_2 / (1+r)^{t_1} \\\\ a_3 / (1+r)^{t_2} \\end{pmatrix} $\n",
    "\n",
    "- Compute the sum of the values of $M$ using \"M.sum()\"\n",
    "\n",
    "Note: I am using subscripts to denote the individual elements of $a$ and $t$.\n",
    "- In the code just enter the values of $a$ and $t$.\n",
    "- To get full points you must do all of the above tasks\n",
    "\n"
   ]
  },
  {
   "cell_type": "code",
   "execution_count": 33,
   "metadata": {},
   "outputs": [
    {
     "name": "stdout",
     "output_type": "stream",
     "text": [
      "85.82840236686391\n"
     ]
    }
   ],
   "source": [
    "# Write your own code\n",
    "\n",
    "r = 0.04\n",
    "\n",
    "A = np.array([20, 30, 40])\n",
    "T = np.array([0, 1, 2])\n",
    "\n",
    "M = A/(1 + r)**T\n",
    "\n",
    "M.sum()\n",
    "\n",
    "print(M.sum())\n"
   ]
  }
 ],
 "metadata": {
  "kernelspec": {
   "display_name": "base",
   "language": "python",
   "name": "python3"
  },
  "language_info": {
   "codemirror_mode": {
    "name": "ipython",
    "version": 3
   },
   "file_extension": ".py",
   "mimetype": "text/x-python",
   "name": "python",
   "nbconvert_exporter": "python",
   "pygments_lexer": "ipython3",
   "version": "3.13.5"
  },
  "orig_nbformat": 4
 },
 "nbformat": 4,
 "nbformat_minor": 2
}
